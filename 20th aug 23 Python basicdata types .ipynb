{
 "cells": [
  {
   "cell_type": "code",
   "execution_count": null,
   "id": "99ef8105-9240-460e-b215-fc04f62ad1db",
   "metadata": {},
   "outputs": [],
   "source": [
    "#1. Write a program to reverse a string."
   ]
  },
  {
   "cell_type": "code",
   "execution_count": 1,
   "id": "6e9df3aa-cde9-4738-b657-40a2d9c58265",
   "metadata": {},
   "outputs": [
    {
     "name": "stdout",
     "output_type": "stream",
     "text": [
      "yajnaS\n"
     ]
    }
   ],
   "source": [
    "str = \"Sanjay\"\n",
    "\n",
    "print(str[::-1])"
   ]
  },
  {
   "cell_type": "code",
   "execution_count": null,
   "id": "66bde94a-246a-417a-8799-50b0311d051d",
   "metadata": {},
   "outputs": [],
   "source": [
    "#2. Check if a string is a palindrome."
   ]
  },
  {
   "cell_type": "code",
   "execution_count": 3,
   "id": "feee7b43-d4dc-4976-9244-ab0243c4d65f",
   "metadata": {},
   "outputs": [
    {
     "name": "stdout",
     "output_type": "stream",
     "text": [
      "Yes\n"
     ]
    }
   ],
   "source": [
    "def isPalindrome(s):\n",
    "    return s== s[::-1]\n",
    "\n",
    "s = \"malayalam\"\n",
    "\n",
    "ans = isPalindrome(s)\n",
    "\n",
    "if ans:\n",
    "    print(\"Yes\")\n",
    "else:\n",
    "    print(\"No\")"
   ]
  },
  {
   "cell_type": "code",
   "execution_count": null,
   "id": "394df4aa-20ae-400d-867d-b3e483409d9b",
   "metadata": {},
   "outputs": [],
   "source": [
    "#3. Convert a string to uppercase."
   ]
  },
  {
   "cell_type": "code",
   "execution_count": 4,
   "id": "d199e590-e22c-4db5-9aa5-794ea4423ada",
   "metadata": {},
   "outputs": [
    {
     "data": {
      "text/plain": [
       "'SANJAY'"
      ]
     },
     "execution_count": 4,
     "metadata": {},
     "output_type": "execute_result"
    }
   ],
   "source": [
    "message = 'sanjay'\n",
    "\n",
    "message.upper()"
   ]
  },
  {
   "cell_type": "code",
   "execution_count": null,
   "id": "e87da13a-661f-4891-bdee-d201683d30d5",
   "metadata": {},
   "outputs": [],
   "source": [
    "#4. Convert a string to lowercase."
   ]
  },
  {
   "cell_type": "code",
   "execution_count": 5,
   "id": "31ac0c5c-e33d-46c1-ae49-e508f3b12098",
   "metadata": {},
   "outputs": [
    {
     "data": {
      "text/plain": [
       "'sanjay'"
      ]
     },
     "execution_count": 5,
     "metadata": {},
     "output_type": "execute_result"
    }
   ],
   "source": [
    "message = 'SANJAY'\n",
    "\n",
    "message.lower()"
   ]
  },
  {
   "cell_type": "code",
   "execution_count": null,
   "id": "f7dd2142-a8c8-4171-99fa-bdfa33ea45d2",
   "metadata": {},
   "outputs": [],
   "source": [
    "#5. Count the number of vowels in a string."
   ]
  },
  {
   "cell_type": "code",
   "execution_count": 6,
   "id": "abd704a6-4919-4621-bd22-5d7ecb4471f6",
   "metadata": {
    "collapsed": true,
    "jupyter": {
     "outputs_hidden": true
    },
    "tags": []
   },
   "outputs": [
    {
     "name": "stdin",
     "output_type": "stream",
     "text": [
      "Enter string: sanjay\n"
     ]
    },
    {
     "name": "stdout",
     "output_type": "stream",
     "text": [
      "Number of vowels are:\n",
      "2\n"
     ]
    }
   ],
   "source": [
    "string= input('Enter string:')\n",
    "vowels=0\n",
    "for i in string:\n",
    "    if(i=='a' or i=='e' or i=='i' or i=='o' or i=='u' or i=='A' or i=='E' or i=='I' or i=='O' or i=='U'):\n",
    "        vowels= vowels+1\n",
    "        \n",
    "print('Number of vowels are:')\n",
    "print(vowels)\n",
    "        "
   ]
  },
  {
   "cell_type": "code",
   "execution_count": null,
   "id": "6a998174-2cd4-4062-b2e3-4e06d772d4d4",
   "metadata": {},
   "outputs": [],
   "source": [
    "#6. Count the number of consonants in a string."
   ]
  },
  {
   "cell_type": "code",
   "execution_count": 10,
   "id": "8513215c-b93b-4acc-bf1f-fb9fb9178a3a",
   "metadata": {},
   "outputs": [
    {
     "name": "stdin",
     "output_type": "stream",
     "text": [
      "Enter any string:  sanjay\n"
     ]
    },
    {
     "name": "stdout",
     "output_type": "stream",
     "text": [
      "No of consonants: 4\n"
     ]
    }
   ],
   "source": [
    "def countConsonants(string):\n",
    "    num_consonants = 0\n",
    "    # to count the consonants   \n",
    "    for char in string:      \n",
    "        if char not in \"aeiouAEIOU \":   \n",
    "            num_consonants += 1   \n",
    "    return num_consonants # take input\n",
    "string = input('Enter any string: ')\n",
    "print('No of consonants:',countConsonants(string))"
   ]
  },
  {
   "cell_type": "code",
   "execution_count": 11,
   "id": "b182b6d8-01aa-47d7-9088-aaa4333ee5be",
   "metadata": {},
   "outputs": [],
   "source": [
    "#7. Remove all whitespaces from a string.\n"
   ]
  },
  {
   "cell_type": "code",
   "execution_count": 13,
   "id": "5c742ece-ecf5-4c62-8ae5-122327277e2d",
   "metadata": {},
   "outputs": [
    {
     "data": {
      "text/plain": [
       "'Hello World'"
      ]
     },
     "execution_count": 13,
     "metadata": {},
     "output_type": "execute_result"
    }
   ],
   "source": [
    "name = '  Hello World   '\n",
    "\n",
    "name.strip()"
   ]
  },
  {
   "cell_type": "code",
   "execution_count": 14,
   "id": "c71c4759-a1f8-4189-a96e-f486e1da71e8",
   "metadata": {},
   "outputs": [],
   "source": [
    "#8. Find the length of a string without using the `len()` function."
   ]
  },
  {
   "cell_type": "code",
   "execution_count": 19,
   "id": "b1edbd26-5661-4a49-afed-83460245c6a1",
   "metadata": {},
   "outputs": [
    {
     "name": "stdout",
     "output_type": "stream",
     "text": [
      "5\n"
     ]
    }
   ],
   "source": [
    "str = \"Hello\"\n",
    "\n",
    "count = 0\n",
    "for i in str:\n",
    "    count+=1\n",
    "    \n",
    "print(count)"
   ]
  },
  {
   "cell_type": "code",
   "execution_count": 22,
   "id": "46b849c9-2146-4b10-9ebe-4c9db48be895",
   "metadata": {},
   "outputs": [
    {
     "name": "stdout",
     "output_type": "stream",
     "text": [
      "the sentence contains 'are'\n"
     ]
    }
   ],
   "source": [
    "#9. Check if a string contains a specific word.\n",
    "\n",
    "sentence = \" are you mad\"\n",
    "if sentence.find('are'):\n",
    "    print(\"the sentence contains 'are'\")\n",
    "else:\n",
    "    print(\"the sentence not contain 'are'\")"
   ]
  },
  {
   "cell_type": "code",
   "execution_count": 29,
   "id": "d46ea58d-46b0-4420-8244-216537d9d885",
   "metadata": {},
   "outputs": [
    {
     "name": "stdout",
     "output_type": "stream",
     "text": [
      "My name is King\n"
     ]
    }
   ],
   "source": [
    "#10. Replace a word in a string with another word.\n",
    "\n",
    "str = \"My name is sanjay\"\n",
    "\n",
    "x = str.replace(\"sanjay\", 'King')\n",
    "print(x)"
   ]
  },
  {
   "cell_type": "code",
   "execution_count": 31,
   "id": "b0918d51-7158-4517-90a9-aa3a8559bb4d",
   "metadata": {},
   "outputs": [
    {
     "name": "stdout",
     "output_type": "stream",
     "text": [
      "2\n"
     ]
    }
   ],
   "source": [
    "#11. Count the occurrences of a word in a string.\n",
    "str = \"My name is sanjay and my hometown is bangalore\"\n",
    "\n",
    "x = str.count('is')\n",
    "print(x)"
   ]
  },
  {
   "cell_type": "code",
   "execution_count": 42,
   "id": "64bb698c-8a2d-47ff-bf9b-bdedc706c0e0",
   "metadata": {},
   "outputs": [
    {
     "data": {
      "text/plain": [
       "0"
      ]
     },
     "execution_count": 42,
     "metadata": {},
     "output_type": "execute_result"
    }
   ],
   "source": [
    "#12. Find the first occurrence of a word in a string.\n",
    "str = \"My name is sanjay and my hometown is bangalore\"\n",
    "\n",
    "str.index(\"My name\")\n"
   ]
  },
  {
   "cell_type": "code",
   "execution_count": 19,
   "id": "c96507f7-0828-4b1a-b7c2-448c34569d86",
   "metadata": {},
   "outputs": [
    {
     "name": "stdout",
     "output_type": "stream",
     "text": [
      "The last index of t in the given string is 24\n"
     ]
    }
   ],
   "source": [
    "#13. Find the last occurrence of a word in a string.\n",
    "str1 = \"Welcome to tutorialspoint\"\n",
    "\n",
    "\n",
    "index = str1.rindex('t')\n",
    "print(\"The last index of t in the given string is\",index)"
   ]
  },
  {
   "cell_type": "code",
   "execution_count": 20,
   "id": "52a53c90-73ad-4378-8e9f-5afd9d4f1b48",
   "metadata": {},
   "outputs": [
    {
     "data": {
      "text/plain": [
       "['Sanjay', 'Nagaraj']"
      ]
     },
     "execution_count": 20,
     "metadata": {},
     "output_type": "execute_result"
    }
   ],
   "source": [
    "#14. Split a string into a list of words.\n",
    "str=\"Sanjay Nagaraj\"\n",
    "str.split()"
   ]
  },
  {
   "cell_type": "code",
   "execution_count": 31,
   "id": "f918ecd0-c6b7-4d69-a6c0-5f9db768ecf4",
   "metadata": {},
   "outputs": [
    {
     "name": "stdout",
     "output_type": "stream",
     "text": [
      "joined string: My name is sanjay\n"
     ]
    }
   ],
   "source": [
    "#15. Join a list of words into a string.\n",
    "words = \"My, name , is ,sanjay\"\n",
    "\"text= join_words_into_strings(words)\"\n",
    "print(\"joined string:\", text)\n",
    "\n"
   ]
  },
  {
   "cell_type": "code",
   "execution_count": 38,
   "id": "912d8e23-22ab-45fb-bec1-19c13c9e635e",
   "metadata": {},
   "outputs": [
    {
     "name": "stdout",
     "output_type": "stream",
     "text": [
      "This_is_an_example_sentence.\n"
     ]
    }
   ],
   "source": [
    "#16. Convert a string where words are separated by spaces to one where words are separated by underscores.\n",
    "underscore_separated = text.replace(\" \", \"_\")\n",
    "print(underscore_separated)"
   ]
  },
  {
   "cell_type": "code",
   "execution_count": 42,
   "id": "bb2de894-f992-42d5-8c72-0388236cf92f",
   "metadata": {},
   "outputs": [
    {
     "name": "stdout",
     "output_type": "stream",
     "text": [
      "True\n"
     ]
    }
   ],
   "source": [
    "#17. Check if a string starts with a specific word or phrase.\n",
    "text = \"Hello, world!\"\n",
    "prefix = \"Hello\"\n",
    "is_start = text.startswith(prefix)\n",
    "print(is_start)"
   ]
  },
  {
   "cell_type": "code",
   "execution_count": 46,
   "id": "914bdbb6-d9d6-459b-a71d-0be6ccc6eec1",
   "metadata": {},
   "outputs": [
    {
     "name": "stdout",
     "output_type": "stream",
     "text": [
      "True\n"
     ]
    }
   ],
   "source": [
    "#18. Check if a string ends with a specific word or phrase.\n",
    "text = \"Hello, world!\"\n",
    "prefix = \"Hello\"\n",
    "is_stop = text.endswith(prefix)\n",
    "print(is_start)"
   ]
  },
  {
   "cell_type": "code",
   "execution_count": 50,
   "id": "e72ca885-c62f-4f14-ad5a-15cf4da96236",
   "metadata": {},
   "outputs": [
    {
     "data": {
      "text/plain": [
       "'Hello World!'"
      ]
     },
     "execution_count": 50,
     "metadata": {},
     "output_type": "execute_result"
    }
   ],
   "source": [
    "#19. Convert a string to title case (e.g., \"hello world\" to \"Hello World\").\n",
    "str=\"hello world!\"\n",
    "\n",
    "str.title()\n"
   ]
  },
  {
   "cell_type": "code",
   "execution_count": 21,
   "id": "96d80fd2-4d53-45b3-8851-97ba54e8f3e8",
   "metadata": {},
   "outputs": [
    {
     "name": "stdout",
     "output_type": "stream",
     "text": [
      " \n"
     ]
    }
   ],
   "source": [
    "#20.Find the longest word in a string.\n",
    "text = \" My name is sanjay\"\n",
    "\n",
    "word = None\n",
    "max_length=0\n",
    "for s in text:\n",
    "    if len(s) > max_length:\n",
    "        max_length=len(s)\n",
    "        word = s\n",
    "print(word)"
   ]
  },
  {
   "cell_type": "code",
   "execution_count": null,
   "id": "3f750926-b1eb-423b-852a-82a60f6190cf",
   "metadata": {},
   "outputs": [
    {
     "data": {
      "text/plain": [
       "('sentance', 'a', 'is', 'This')"
      ]
     },
     "execution_count": 20,
     "metadata": {},
     "output_type": "execute_result"
    }
   ],
   "source": [
    "#22. Reverse the order of words in a string.\n",
    "\n",
    "text = \"This\", \"is\", \"a\", \"sentance\"\n",
    "\n",
    "text[::-1]"
   ]
  },
  {
   "cell_type": "code",
   "execution_count": 14,
   "id": "11cfaa86-e793-4a1f-bb71-7bf9e191b203",
   "metadata": {},
   "outputs": [
    {
     "data": {
      "text/plain": [
       "False"
      ]
     },
     "execution_count": 14,
     "metadata": {},
     "output_type": "execute_result"
    }
   ],
   "source": [
    "#23. Check if a string is alphanumeric.\n",
    "str = \"Sanjaykn123\"\n",
    "\n",
    "str.isalnum()"
   ]
  },
  {
   "cell_type": "code",
   "execution_count": 16,
   "id": "6e2c8861-c6e2-4df7-a928-2a9fcc532de7",
   "metadata": {},
   "outputs": [
    {
     "name": "stdout",
     "output_type": "stream",
     "text": [
      "The original string : PWskills2\n",
      "The digits string is : 2\n"
     ]
    }
   ],
   "source": [
    "#24. Extract all digits from a string.\n",
    "test_string = 'PWskills2'\n",
    "   \n",
    "print(\"The original string : \" + test_string)\n",
    " \n",
    "res = ''.join(filter(lambda i: i.isdigit(), test_string))\n",
    "     \n",
    "print(\"The digits string is : \" + res)"
   ]
  },
  {
   "cell_type": "code",
   "execution_count": 21,
   "id": "27e2e930-6612-4ab9-98f9-a8ecb47a3a08",
   "metadata": {
    "tags": []
   },
   "outputs": [
    {
     "name": "stdout",
     "output_type": "stream",
     "text": [
      "Given string :  Qwer34^&t%y\n",
      "Result:  Q\n",
      "Result:  Qw\n",
      "Result:  Qwe\n",
      "Result:  Qwer\n",
      "Result:  Qwer\n",
      "Result:  Qwer\n",
      "Result:  Qwer\n",
      "Result:  Qwer\n",
      "Result:  Qwert\n",
      "Result:  Qwert\n",
      "Result:  Qwerty\n"
     ]
    }
   ],
   "source": [
    "#25. Extract all alphabets from a string.\n",
    "stringA = \"Qwer34^&t%y\"\n",
    "print(\"Given string : \", stringA)\n",
    "res = \"\"\n",
    "for i in stringA:\n",
    "    if i.isalpha():\n",
    "        res = \"\".join([res,i])\n",
    "    print(\"Result: \", res)"
   ]
  },
  {
   "cell_type": "code",
   "execution_count": 25,
   "id": "8c9d085e-59ef-4aec-94dc-68cd71d4e98d",
   "metadata": {},
   "outputs": [
    {
     "name": "stdout",
     "output_type": "stream",
     "text": [
      "number of uppercase letters is: 9\n"
     ]
    }
   ],
   "source": [
    "#26. Count the number of uppercase letters in a string.\n",
    "text= \"Banglore is very BEUTIFUL\"\n",
    "u=0\n",
    "for i in text:\n",
    "    if i.isupper():\n",
    "        u=u+1\n",
    "print(\"number of uppercase letters is:\", u)"
   ]
  },
  {
   "cell_type": "code",
   "execution_count": 27,
   "id": "c998c22e-5e18-422c-ba4f-f6cee95051f7",
   "metadata": {},
   "outputs": [
    {
     "name": "stdout",
     "output_type": "stream",
     "text": [
      "number of lowercase letters is: 13\n"
     ]
    }
   ],
   "source": [
    "#27. Count the number of lowercase letters in a string.\n",
    "text= \"Banglore is very BEUTIFUL\"\n",
    "l=0\n",
    "for i in text:\n",
    "    if i.islower():\n",
    "        l=l+1\n",
    "print(\"number of lowercase letters is:\", l)"
   ]
  },
  {
   "cell_type": "code",
   "execution_count": 28,
   "id": "580d5ad1-b29c-44ce-812d-fa3630e824c2",
   "metadata": {},
   "outputs": [
    {
     "data": {
      "text/plain": [
       "'pwsKILLS'"
      ]
     },
     "execution_count": 28,
     "metadata": {},
     "output_type": "execute_result"
    }
   ],
   "source": [
    "#28. Swap the case of each character in a string.\n",
    "text = \"PWSkills\"\n",
    "\n",
    "text.swapcase()"
   ]
  },
  {
   "cell_type": "code",
   "execution_count": 30,
   "id": "302a00a2-0ecc-4c2a-9563-39662072347a",
   "metadata": {},
   "outputs": [
    {
     "data": {
      "text/plain": [
       "' My name is Rahul'"
      ]
     },
     "execution_count": 30,
     "metadata": {},
     "output_type": "execute_result"
    }
   ],
   "source": [
    "#29. Remove a specific word from a string.\n",
    "text = \" My name is sanjay\"\n",
    "\n",
    "text.replace(\"sanjay\", \"Rahul\")"
   ]
  },
  {
   "cell_type": "code",
   "execution_count": 31,
   "id": "30f8a9ad-f15a-4c52-8921-22842b2ee945",
   "metadata": {},
   "outputs": [
    {
     "name": "stdout",
     "output_type": "stream",
     "text": [
      "True\n"
     ]
    }
   ],
   "source": [
    "#30. Check if a string is a valid email address.\n",
    "import re\n",
    "\n",
    "def solve(s):\n",
    "   pat = \"^[a-zA-Z0-9-_]+@[a-zA-Z0-9]+\\.[a-z]{1,3}$\"\n",
    "   if re.match(pat,s):\n",
    "      return True\n",
    "   return False\n",
    "\n",
    "s = \"sanjaykn1212@gmail.com\"\n",
    "print(solve(s))"
   ]
  },
  {
   "cell_type": "code",
   "execution_count": 44,
   "id": "c913cb57-5247-49df-bef5-69e3a650c240",
   "metadata": {},
   "outputs": [
    {
     "name": "stdout",
     "output_type": "stream",
     "text": [
      "The original string is : sanjaykn1212@gmail.com\n",
      "The username is: sanjaykn1212\n"
     ]
    }
   ],
   "source": [
    "#31. Extract the username from an email address string.\n",
    "test_str = 'sanjaykn1212@gmail.com'\n",
    " \n",
    "print(\"The original string is : \" + (test_str))\n",
    "print(\"The username is:\",test_str.split(\"@\")[0])"
   ]
  },
  {
   "cell_type": "code",
   "execution_count": 36,
   "id": "1643dd4c-a049-439f-bbf2-6be5202ec70d",
   "metadata": {},
   "outputs": [
    {
     "name": "stdout",
     "output_type": "stream",
     "text": [
      "The original string is : sanjaykn1212@gmail.com\n",
      "The extracted domain name : gmail.com\n"
     ]
    }
   ],
   "source": [
    "#32. Extract the domain name from an email address string.\n",
    "test_str = 'sanjaykn1212@gmail.com'\n",
    " \n",
    "print(\"The original string is : \" + (test_str))\n",
    "  \n",
    "res = test_str[test_str.index('@') + 1 : ]\n",
    "  \n",
    "print(\"The extracted domain name : \" + res) "
   ]
  },
  {
   "cell_type": "code",
   "execution_count": 48,
   "id": "4bc1d8e2-667a-4d68-b922-47baa080c08d",
   "metadata": {},
   "outputs": [
    {
     "data": {
      "text/plain": [
       "'My name is sanjay'"
      ]
     },
     "execution_count": 48,
     "metadata": {},
     "output_type": "execute_result"
    }
   ],
   "source": [
    "#33. Replace multiple spaces in a string with a single space.\n",
    "str = \"  My name is sanjay   \"\n",
    "\n",
    "str.strip(\" \")"
   ]
  },
  {
   "cell_type": "code",
   "execution_count": 50,
   "id": "9c52a7d0-54a2-40cb-86e8-bac103f78d14",
   "metadata": {},
   "outputs": [
    {
     "name": "stdout",
     "output_type": "stream",
     "text": [
      "Urls:  ['https://www.youtube.com/']\n"
     ]
    }
   ],
   "source": [
    "#34. Check if a string is a valid URL.\n",
    "\n",
    "import re\n",
    " \n",
    "def Find(string):\n",
    "    regex = r\"(?i)\\b((?:https?://|www\\d{0,3}[.]|[a-z0-9.\\-]+[.][a-z]{2,4}/)(?:[^\\s()<>]+|\\(([^\\s()<>]+|(\\([^\\s()<>]+\\)))*\\))+(?:\\(([^\\s()<>]+|(\\([^\\s()<>]+\\)))*\\)|[^\\s`!()\\[\\]{};:'\\\".,<>?«»“”‘’]))\"\n",
    "    url = re.findall(regex, string)\n",
    "    return [x[0] for x in url]\n",
    "\n",
    "string = 'https://www.youtube.com/'\n",
    "print(\"Urls: \", Find(string))"
   ]
  },
  {
   "cell_type": "code",
   "execution_count": 55,
   "id": "407133ad-53b7-48c2-a191-0550d6cc3d23",
   "metadata": {},
   "outputs": [
    {
     "data": {
      "text/plain": [
       "0"
      ]
     },
     "execution_count": 55,
     "metadata": {},
     "output_type": "execute_result"
    }
   ],
   "source": [
    "#35. Extract the protocol (http or https) from a URL string.\n",
    "string = 'https://www.youtube.com/'\n",
    "\n",
    "string.index('https')"
   ]
  },
  {
   "cell_type": "code",
   "execution_count": 60,
   "id": "f30cc181-beb9-4f6e-8f92-6aa54a91d2ae",
   "metadata": {},
   "outputs": [
    {
     "name": "stdout",
     "output_type": "stream",
     "text": [
      "Count of all characters in PWskills is :  {'P': 1, 'W': 1, 'S': 1, 'k': 1, 'i': 1, 'l': 2, 's': 1}\n"
     ]
    }
   ],
   "source": [
    "#36. Find the frequency of each character in a string.\n",
    "test_str = \"PWSkills\"\n",
    "\n",
    "all_freq = {}\n",
    " \n",
    "for i in test_str:\n",
    "    if i in all_freq:\n",
    "        all_freq[i] += 1\n",
    "    else:\n",
    "        all_freq[i] = 1\n",
    " \n",
    "print(\"Count of all characters in PWskills is : \"\n",
    "      , all_freq)"
   ]
  },
  {
   "cell_type": "code",
   "execution_count": 64,
   "id": "8877b358-b083-41f1-827c-d47dec73c9b9",
   "metadata": {},
   "outputs": [
    {
     "name": "stdout",
     "output_type": "stream",
     "text": [
      "Original string: Hello, world! How's it going?\n",
      "Cleaned string: None\n"
     ]
    }
   ],
   "source": [
    "#37. Remove all punctuation from a string.\n",
    "def remove_punctuation(input_str):\n",
    "    input_str = \"Hello, world! How's it going?\"\n",
    "cleaned_str = remove_punctuation(input_str)\n",
    "print(\"Original string:\", input_str)\n",
    "print(\"Cleaned string:\", cleaned_str)"
   ]
  },
  {
   "cell_type": "code",
   "execution_count": 2,
   "id": "1f7fb3aa-110f-4e47-ae55-d889b0d234c2",
   "metadata": {},
   "outputs": [
    {
     "data": {
      "text/plain": [
       "False"
      ]
     },
     "execution_count": 2,
     "metadata": {},
     "output_type": "execute_result"
    }
   ],
   "source": [
    "#38. Check if a string contains only digits\n",
    "string1 = \"12345\"\n",
    "string2 = \"Hello123\"\n",
    "\n",
    "string2.isdigit()"
   ]
  },
  {
   "cell_type": "code",
   "execution_count": 3,
   "id": "abf3e8fd-7c43-4f4d-a72f-561a7349c4f4",
   "metadata": {},
   "outputs": [
    {
     "data": {
      "text/plain": [
       "False"
      ]
     },
     "execution_count": 3,
     "metadata": {},
     "output_type": "execute_result"
    }
   ],
   "source": [
    "#39. Check if a string contains only alphabets.\n",
    "str = \"Sanjay K N\"\n",
    "\n",
    "str.isalpha()"
   ]
  },
  {
   "cell_type": "code",
   "execution_count": 11,
   "id": "4c1fb341-48c8-42fa-8b8a-38ccecb88294",
   "metadata": {},
   "outputs": [
    {
     "name": "stdout",
     "output_type": "stream",
     "text": [
      "<class 'list'>\n",
      "['H', 'e', 'l', 'l', 'o', ' ', 'W', 'o', 'r', 'l', 'd', '!']\n"
     ]
    }
   ],
   "source": [
    "#40. Convert a string to a list of characters.\n",
    "\n",
    "str = 'Hello World!'\n",
    "\n",
    "chars = list(str)\n",
    "print(type(chars))\n",
    "print(chars)\n"
   ]
  },
  {
   "cell_type": "code",
   "execution_count": 13,
   "id": "72949bc1-ced0-42db-ad01-4dd78156ff1f",
   "metadata": {},
   "outputs": [
    {
     "name": "stdout",
     "output_type": "stream",
     "text": [
      "True\n"
     ]
    }
   ],
   "source": [
    "#41. Check if two strings are anagrams.\n",
    "n='sanjay'\n",
    "m='yajnas'\n",
    "\n",
    "print(sorted(n)==sorted(m))"
   ]
  },
  {
   "cell_type": "code",
   "execution_count": 18,
   "id": "234dd285-e878-4c04-86f2-808f9eefc0fc",
   "metadata": {},
   "outputs": [
    {
     "name": "stdout",
     "output_type": "stream",
     "text": [
      "Text  :  ATTACKATONCE\n",
      "Shift :  4\n",
      "Cipher:  EXXEGOEXSRGI\n"
     ]
    }
   ],
   "source": [
    "#42. Encode a string using a Caesar cipher.\n",
    "def encrypt(text,s):\n",
    "    result = \"\"\n",
    "\n",
    "    for i in range(len(text)):\n",
    "        char = text[i]\n",
    "\n",
    "        if (char.isupper()):\n",
    "            result += chr((ord(char) + s-65) % 26 + 65)\n",
    "        else:\n",
    "            result += chr((ord(char) + s - 97) % 26 + 97)\n",
    " \n",
    "    return result\n",
    "text = \"ATTACKATONCE\"\n",
    "s = 4\n",
    "print (\"Text  : \" , text)\n",
    "print (\"Shift : \" , s)\n",
    "print (\"Cipher: \" ,encrypt(text,s))\n"
   ]
  },
  {
   "cell_type": "code",
   "execution_count": 1,
   "id": "5fc7db50-6388-4cbf-9c46-b840100067fd",
   "metadata": {},
   "outputs": [
    {
     "name": "stdin",
     "output_type": "stream",
     "text": [
      "Enter the message i.e to be decrypted:  EXXEGOEXSRGI\n",
      "Enter the key to decrypt:  3\n"
     ]
    },
    {
     "name": "stdout",
     "output_type": "stream",
     "text": [
      "Your decrypted message is:\n",
      "\n",
      "EXXEGOEXSRGI\n"
     ]
    }
   ],
   "source": [
    "#43. Decode a Caesar cipher encoded string.\n",
    "def decrypt():\n",
    "\n",
    "    encrypted_message = input(\"Enter the message i.e to be decrypted: \").strip()\n",
    "    \n",
    "    letters=\"abcdefghijklmnopqrstuvwxyz\"\n",
    "\n",
    "    k = int(input(\"Enter the key to decrypt: \"))\n",
    "    decrypted_message = \"\"\n",
    "\n",
    "    for ch in encrypted_message:\n",
    "\n",
    "        if ch in letters:\n",
    "            position = letters.find(ch)\n",
    "            new_pos = (position - k) % 26\n",
    "            new_char = letters[new_pos]\n",
    "            decrypted_message += new_char\n",
    "        else:\n",
    "            decrypted_message += ch\n",
    "    print(\"Your decrypted message is:\\n\")\n",
    "    print(decrypted_message)\n",
    "\n",
    "decrypt()\n"
   ]
  },
  {
   "cell_type": "code",
   "execution_count": 2,
   "id": "74a5c617-70b5-43a3-9e44-4358d997992c",
   "metadata": {},
   "outputs": [
    {
     "name": "stdout",
     "output_type": "stream",
     "text": [
      "The original list is : ['gfg is best for geeks', 'geeks love gfg', 'gfg is best']\n",
      "Word with maximum frequency : gfg\n"
     ]
    }
   ],
   "source": [
    "#44. Find the most frequent word in a\n",
    "from collections import defaultdict\n",
    "\n",
    "test_list = [\"gfg is best for geeks\", \"geeks love gfg\", \"gfg is best\"]\n",
    "\n",
    "print(\"The original list is : \" + str(test_list))\n",
    " \n",
    "temp = defaultdict(int)\n",
    "\n",
    "for sub in test_list:\n",
    "    for wrd in sub.split():\n",
    "        temp[wrd] += 1\n",
    " \n",
    "# getting max frequency\n",
    "res = max(temp, key=temp.get)\n",
    "\n",
    "print(\"Word with maximum frequency : \" + str(res))"
   ]
  },
  {
   "cell_type": "code",
   "execution_count": 4,
   "id": "0f6db7a5-29bf-453c-8231-bdcd45fbbcbc",
   "metadata": {},
   "outputs": [
    {
     "name": "stdout",
     "output_type": "stream",
     "text": [
      "skills\n",
      "for\n",
      "pw\n"
     ]
    }
   ],
   "source": [
    "#45. Find all unique words in a string.\n",
    "def printWords(l):\n",
    "\n",
    "    for i in l:\n",
    "        print(i)\n",
    "\n",
    "str = \"pw for skills\"\n",
    "\n",
    "s = set(str.split(\" \"))\n",
    "printWords(s)"
   ]
  },
  {
   "cell_type": "code",
   "execution_count": 5,
   "id": "c7103702-29ce-441c-82f9-3c3002104074",
   "metadata": {},
   "outputs": [
    {
     "name": "stdout",
     "output_type": "stream",
     "text": [
      "2\n"
     ]
    }
   ],
   "source": [
    "#46. Count the number of syllables in a string.\n",
    "def count(word):\n",
    "    new_word = word\n",
    "    count_syllables = new_word.split('-')\n",
    "    return len(count_syllables)\n",
    "print(count(\"ho-tel\"))"
   ]
  },
  {
   "cell_type": "code",
   "execution_count": 7,
   "id": "b69e75f4-f164-4cd0-bc62-251a04e21caa",
   "metadata": {},
   "outputs": [
    {
     "name": "stdout",
     "output_type": "stream",
     "text": [
      "String is not accepted.\n"
     ]
    }
   ],
   "source": [
    "#47. Check if a string contains any special characters.\n",
    "import re\n",
    "\n",
    "def run(string):\n",
    "\n",
    "    regex = re.compile('[@_!#$%^&*()<>?/\\|}{~:]')\n",
    "    \n",
    "    if(regex.search(string) == None):\n",
    "        print(\"String is accepted\")\n",
    "         \n",
    "    else:\n",
    "        print(\"String is not accepted.\")\n",
    "     \n",
    " \n",
    "# Driver Code\n",
    "if __name__ == '__main__' :\n",
    "\n",
    "    string = \"PWSkills@2\"\n",
    "    run(string)"
   ]
  },
  {
   "cell_type": "code",
   "execution_count": 8,
   "id": "51deee9c-1862-4040-aed3-175fabbc3dcf",
   "metadata": {},
   "outputs": [
    {
     "name": "stdout",
     "output_type": "stream",
     "text": [
      "Item not Updated\n"
     ]
    }
   ],
   "source": [
    "#48. Remove the nth word from a string.\n",
    "def RemoveIthWord(list, word, N):\n",
    "\tcount = 0\n",
    "\n",
    "\tfor i in range(0, len(list)):\n",
    "\t\tif (list[i] == word):\n",
    "\t\t\tcount = count + 1\n",
    "\n",
    "\t\t\tif(count == N):\n",
    "\t\t\t\tdel(list[i])\n",
    "\t\t\t\treturn True\n",
    "\n",
    "\treturn False\n",
    "list = ['PW', 'Skills', 'training']\n",
    "word = 'Skills'\n",
    "N = 2\n",
    "\n",
    "flag = RemoveIthWord(list, word, N)\n",
    "\n",
    "if (flag == True):\n",
    "\tprint(\"Updated list is: \", list)\n",
    "else:\n",
    "\tprint(\"Item not Updated\")\n"
   ]
  },
  {
   "cell_type": "code",
   "execution_count": 9,
   "id": "5127767d-36b1-4af3-a5ab-0d2a6f9ddca4",
   "metadata": {},
   "outputs": [
    {
     "name": "stdout",
     "output_type": "stream",
     "text": [
      "The original string : PWSlills\n",
      "The add string : for\n",
      "The string after performing addition : PWSliforlls\n"
     ]
    }
   ],
   "source": [
    "#49. Insert a word at the nth position in a string.\n",
    "test_string = 'PWSlills'\n",
    "add_string = \"for\"\n",
    "\n",
    "print(\"The original string : \" + test_string)\n",
    "\n",
    "print(\"The add string : \" + add_string)\n",
    "\n",
    "N = 5\n",
    "res = test_string[ : N] + add_string + test_string[N : ]\n",
    "\n",
    "print(\"The string after performing addition : \" + res)\n"
   ]
  },
  {
   "cell_type": "code",
   "execution_count": 10,
   "id": "1d65dc99-9690-435b-a54a-cc6e3deed976",
   "metadata": {},
   "outputs": [
    {
     "name": "stdout",
     "output_type": "stream",
     "text": [
      "        series  episodes        actors\n",
      "0      Friends       200   David Crane\n",
      "1  Money Heist        50        Alvaro\n",
      "2       Marvel        45      Stan Lee\n"
     ]
    }
   ],
   "source": [
    "#50. Convert a CSV string to a list of lists.\n",
    "\n",
    "import pandas as pd \n",
    "\n",
    "dict = { \n",
    "\t'series': ['Friends', 'Money Heist', 'Marvel'], \n",
    "\t'episodes': [200, 50, 45], \n",
    "\t'actors': [' David Crane', 'Alvaro', 'Stan Lee'] \n",
    "} \n",
    "\n",
    "df = pd.DataFrame(dict) \n",
    "print(df)\n"
   ]
  },
  {
   "cell_type": "code",
   "execution_count": 22,
   "id": "a2620075-7708-444e-9a11-2686ff5690ce",
   "metadata": {},
   "outputs": [],
   "source": [
    "#List Based Practice Problem :"
   ]
  },
  {
   "cell_type": "code",
   "execution_count": 24,
   "id": "5831fc56-a2de-4a3c-95b8-1d39f9de3bd9",
   "metadata": {},
   "outputs": [
    {
     "name": "stdout",
     "output_type": "stream",
     "text": [
      "[1, 2, 3, 4, 'sanju', True, 53.43]\n"
     ]
    }
   ],
   "source": [
    "#1. Create a list with integers from 1 to 10.\n",
    "l1 = [1,2,3,4, 'sanju', True , 53.43]\n",
    "print(l1)"
   ]
  },
  {
   "cell_type": "code",
   "execution_count": 31,
   "id": "0e3f0345-45ed-4f70-8426-33b074b39672",
   "metadata": {},
   "outputs": [
    {
     "name": "stdout",
     "output_type": "stream",
     "text": [
      "7\n"
     ]
    }
   ],
   "source": [
    "#2. Find the length of a list without using the `len()` function.\n",
    "string = [1,2,3,4, 'sanju', True , 53.43]\n",
    "\n",
    "count = 0\n",
    "\n",
    "for i in string:\n",
    " \n",
    "    count+=1\n",
    "print(count)"
   ]
  },
  {
   "cell_type": "code",
   "execution_count": 30,
   "id": "7b6d4662-20b5-4e5c-bb13-110cbb1cd1b1",
   "metadata": {},
   "outputs": [
    {
     "data": {
      "text/plain": [
       "0"
      ]
     },
     "execution_count": 30,
     "metadata": {},
     "output_type": "execute_result"
    }
   ],
   "source": [
    "#3. Append an element to the end of a list.\n",
    "l1 = [1,2,3,4, 'sanju', True , 53.43]\n",
    "l1.count(int)"
   ]
  },
  {
   "cell_type": "code",
   "execution_count": 34,
   "id": "8618a9df-b76a-4958-8f15-ee771843f361",
   "metadata": {},
   "outputs": [
    {
     "name": "stdout",
     "output_type": "stream",
     "text": [
      "[1, 2, 3, 4, 'sanju', True, 53.43, 'LTTS']\n"
     ]
    }
   ],
   "source": [
    "#3. Append an element to the end of a list.\n",
    "my_list =[1,2,3,4, 'sanju', True , 53.43]\n",
    "my_list.append('LTTS')\n",
    "print(my_list)\n"
   ]
  },
  {
   "cell_type": "code",
   "execution_count": 35,
   "id": "85806155-8610-4965-ba17-d6c1292c3a59",
   "metadata": {},
   "outputs": [
    {
     "name": "stdout",
     "output_type": "stream",
     "text": [
      "[1, 2, 3, 4, 'LTTS', 'sanju', True, 53.43]\n"
     ]
    }
   ],
   "source": [
    "#4. Insert an element at a specific index in a list.\n",
    "my_list =[1,2,3,4, 'sanju', True , 53.43]\n",
    "my_list.insert(4, 'LTTS')\n",
    "print(my_list)\n"
   ]
  },
  {
   "cell_type": "code",
   "execution_count": 38,
   "id": "5372a526-57cc-462d-afac-8bd46103816d",
   "metadata": {},
   "outputs": [
    {
     "name": "stdout",
     "output_type": "stream",
     "text": [
      "[2, 3, 4, 'sanju', True, 53.43]\n"
     ]
    }
   ],
   "source": [
    "#5. Remove an element from a list by its value.\n",
    "my_list =[1,2,3,4, 'sanju', True , 53.43]\n",
    "my_list.remove(1)\n",
    "print(my_list)\n"
   ]
  },
  {
   "cell_type": "code",
   "execution_count": 41,
   "id": "5d72c1f1-7741-495e-8f73-30795747b4ec",
   "metadata": {},
   "outputs": [
    {
     "name": "stdout",
     "output_type": "stream",
     "text": [
      "[1, 3, 4, 'sanju', True, 53.43]\n"
     ]
    }
   ],
   "source": [
    "#6. Remove an element from a list by its index.\n",
    "my_list =[1,2,3,4, 'sanju', True , 53.43]\n",
    "my_list.pop(1)\n",
    "print(my_list)"
   ]
  },
  {
   "cell_type": "code",
   "execution_count": 42,
   "id": "6fed56ec-2ff2-430f-9ab2-16db9d37bf9f",
   "metadata": {},
   "outputs": [
    {
     "name": "stdout",
     "output_type": "stream",
     "text": [
      "exists\n"
     ]
    }
   ],
   "source": [
    "#7. Check if an element exists in a list.\n",
    "my_list =[1,2,3,4, 'sanju', True , 53.43]\n",
    "\n",
    "i = 3\n",
    "if i in my_list:\n",
    "    print('exists')\n",
    "else:\n",
    "    print('Not exists')"
   ]
  },
  {
   "cell_type": "code",
   "execution_count": 47,
   "id": "184083c9-6be9-478a-a9cf-54997bbc999a",
   "metadata": {},
   "outputs": [
    {
     "name": "stdout",
     "output_type": "stream",
     "text": [
      "1\n"
     ]
    }
   ],
   "source": [
    "#8. Find the index of the first occurrence of an element in a list.\n",
    "list2 = ['cat', 'bat', 'mat', 'cat', 'pet'] \n",
    " \n",
    "print(list2.index('bat')) \n"
   ]
  },
  {
   "cell_type": "code",
   "execution_count": 48,
   "id": "16cae13b-ce98-41c9-abe4-04be4413fceb",
   "metadata": {},
   "outputs": [
    {
     "name": "stdout",
     "output_type": "stream",
     "text": [
      "1\n"
     ]
    }
   ],
   "source": [
    "#9. Count the occurrences of an element in a list.\n",
    "my_list = [1, 2, 3, 4, 5, 6, 7, 8, 9, 10]  \n",
    "count = my_list.count(5)  \n",
    "print(count)  "
   ]
  },
  {
   "cell_type": "code",
   "execution_count": 49,
   "id": "e804a363-5671-41db-9eb0-9e1780727ec7",
   "metadata": {},
   "outputs": [
    {
     "name": "stdout",
     "output_type": "stream",
     "text": [
      "[10, 9, 8, 7, 6, 5, 4, 3, 2, 1]\n"
     ]
    }
   ],
   "source": [
    "#10. Reverse the order of elements in a list.\n",
    "my_list = [1, 2, 3, 4, 5, 6, 7, 8, 9, 10]  \n",
    "count = my_list[::-1] \n",
    "print(count)  "
   ]
  },
  {
   "cell_type": "code",
   "execution_count": 51,
   "id": "191369a9-ac0e-4ed7-b25e-72623f77d132",
   "metadata": {},
   "outputs": [
    {
     "name": "stdout",
     "output_type": "stream",
     "text": [
      "[1, 2, 3, 4]\n"
     ]
    }
   ],
   "source": [
    "#11. Sort a list in ascending order.\n",
    "numbers = [1, 3, 4, 2] \n",
    "\n",
    "numbers.sort() \n",
    "print(numbers)\t\t\t\t\t \n"
   ]
  },
  {
   "cell_type": "code",
   "execution_count": 52,
   "id": "38a65cbd-3252-4fa7-871e-e2d775008eae",
   "metadata": {},
   "outputs": [
    {
     "name": "stdout",
     "output_type": "stream",
     "text": [
      "[4, 3, 2, 1]\n"
     ]
    }
   ],
   "source": [
    "#12. Sort a list in descending order.\n",
    "numbers = [1, 3, 4, 2] \n",
    "\n",
    "numbers.sort(reverse=True) \n",
    "print(numbers)\t\t\t\t\t \n"
   ]
  },
  {
   "cell_type": "code",
   "execution_count": 55,
   "id": "54f32a51-3700-4602-aa4c-b228d479d5a9",
   "metadata": {},
   "outputs": [
    {
     "name": "stdout",
     "output_type": "stream",
     "text": [
      "2\n",
      "4\n",
      "6\n",
      "8\n",
      "10\n",
      "12\n",
      "14\n",
      "16\n",
      "18\n",
      "20\n"
     ]
    }
   ],
   "source": [
    "#13. Create a list of even numbers from 1 to 20.\n",
    "\n",
    "list1 = [1,2,3,4,5,6,7,8,9,10,11,12,23,14,15,16,17,18,19,20]\n",
    "for num in list1:\n",
    "\n",
    "\tif num % 2 == 0:\n",
    "\t\tprint(num)\n"
   ]
  },
  {
   "cell_type": "code",
   "execution_count": 58,
   "id": "f59199d8-5ee7-4c97-a058-a1ae9a09f3f8",
   "metadata": {},
   "outputs": [
    {
     "name": "stdout",
     "output_type": "stream",
     "text": [
      "1\n",
      "3\n",
      "5\n",
      "7\n",
      "9\n",
      "11\n",
      "23\n",
      "15\n",
      "17\n",
      "19\n"
     ]
    }
   ],
   "source": [
    "#14. Create a list of odd numbers from 1 to 20.\n",
    "list1 = [1,2,3,4,5,6,7,8,9,10,11,12,23,14,15,16,17,18,19,20]\n",
    "for num in list1:\n",
    "\n",
    "\tif num % 2 != 0:\n",
    "\t\tprint(num)\n"
   ]
  },
  {
   "cell_type": "code",
   "execution_count": 60,
   "id": "3eccb494-6e2d-4238-9977-af11f2b55126",
   "metadata": {},
   "outputs": [
    {
     "name": "stdout",
     "output_type": "stream",
     "text": [
      "25\n"
     ]
    }
   ],
   "source": [
    "#15. Find the sum of all elements in a list.\n",
    "numbers = [1,2,3,4,5,1,4,5]\n",
    "\n",
    "Sum = sum(numbers)\n",
    "print(Sum)\n"
   ]
  },
  {
   "cell_type": "code",
   "execution_count": 61,
   "id": "84f83fe6-279a-4808-abda-2c2ef4d4afd7",
   "metadata": {},
   "outputs": [
    {
     "name": "stdout",
     "output_type": "stream",
     "text": [
      "5\n"
     ]
    }
   ],
   "source": [
    "#16. Find the maximum value in a list.\n",
    "numbers = [1,2,3,4,5,1,4,5]\n",
    "\n",
    "Sum = max(numbers)\n",
    "print(Sum)"
   ]
  },
  {
   "cell_type": "code",
   "execution_count": 62,
   "id": "741ce04f-a5d6-4996-a0df-8a6debedb97b",
   "metadata": {},
   "outputs": [
    {
     "name": "stdout",
     "output_type": "stream",
     "text": [
      "1\n"
     ]
    }
   ],
   "source": [
    "#17. Find the minimum value in a list.\n",
    "numbers = [1,2,3,4,5,1,4,5]\n",
    "\n",
    "Sum = min(numbers)\n",
    "print(Sum)"
   ]
  },
  {
   "cell_type": "code",
   "execution_count": 1,
   "id": "2ccb4914-f45f-4b3e-befe-830347f5f53d",
   "metadata": {},
   "outputs": [
    {
     "name": "stdout",
     "output_type": "stream",
     "text": [
      "[1, 4, 9, 16, 25, 36, 49, 64, 81, 100]\n"
     ]
    }
   ],
   "source": [
    "#18. Create a list of squares of numbers from 1 to 10.\n",
    "squares = [x**2 for x in range(1, 11)]\n",
    "print(squares)"
   ]
  },
  {
   "cell_type": "code",
   "execution_count": 2,
   "id": "2c61219a-6b1b-4194-a67e-2c440565efbd",
   "metadata": {},
   "outputs": [
    {
     "name": "stdout",
     "output_type": "stream",
     "text": [
      "0.5337022085848728\n"
     ]
    }
   ],
   "source": [
    "#19. Create a list of random numbers.\n",
    "import random\n",
    "num = random.random()\n",
    "print(num)\n"
   ]
  },
  {
   "cell_type": "code",
   "execution_count": 3,
   "id": "88a27b75-313d-451a-8894-9111f6005274",
   "metadata": {},
   "outputs": [
    {
     "name": "stdout",
     "output_type": "stream",
     "text": [
      "List without duplicates: [40, 10, 50, 20, 30]\n"
     ]
    }
   ],
   "source": [
    "#20. Remove duplicates from a list.\n",
    "my_list = [10, 20, 30, 20, 40, 10, 50, 30]\n",
    "unique_list = list(set(my_list))\n",
    "print(\"List without duplicates:\", unique_list)"
   ]
  },
  {
   "cell_type": "code",
   "execution_count": 4,
   "id": "cccdaa62-200d-4545-ba3a-bfd3e851b064",
   "metadata": {},
   "outputs": [
    {
     "name": "stdout",
     "output_type": "stream",
     "text": [
      "The common elements in the two lists are: \n",
      "[5]\n"
     ]
    }
   ],
   "source": [
    "#21. Find the common elements between two lists.\n",
    "def common_member(a, b):\n",
    "\tresult = [i for i in a if i in b]\n",
    "\treturn result\n",
    "\n",
    "a = [1, 2, 3, 4, 5]\n",
    "b = [5, 6, 7, 8, 9]\n",
    "\n",
    "print(\"The common elements in the two lists are: \")\n",
    "print(common_member(a, b))\n"
   ]
  },
  {
   "cell_type": "code",
   "execution_count": 5,
   "id": "78fbf506-c7d1-44d2-a0fc-f0bb120890d8",
   "metadata": {},
   "outputs": [
    {
     "name": "stdout",
     "output_type": "stream",
     "text": [
      "[10, 15, 20, 30]\n"
     ]
    }
   ],
   "source": [
    "#22. Find the difference between two lists.\n",
    "li1 = [10, 15, 20, 25, 30, 35, 40]\n",
    "li2 = [25, 40, 35]\n",
    "\n",
    "temp3 = []\n",
    "for element in li1:\n",
    "\tif element not in li2:\n",
    "\t\ttemp3.append(element)\n",
    "\n",
    "print(temp3)"
   ]
  },
  {
   "cell_type": "code",
   "execution_count": 6,
   "id": "ef0a0fb7-70d7-4347-a1d2-5ceb12a327ff",
   "metadata": {},
   "outputs": [
    {
     "name": "stdout",
     "output_type": "stream",
     "text": [
      "Concatenated list using + : [1, 4, 5, 6, 5, 3, 5, 7, 2, 5]\n"
     ]
    }
   ],
   "source": [
    "#23. Merge two lists.\n",
    "\n",
    "test_list3 = [1, 4, 5, 6, 5]\n",
    "test_list4 = [3, 5, 7, 2, 5]\n",
    "\n",
    "test_list3 = test_list3 + test_list4\n",
    "\n",
    "print (\"Concatenated list using + : \"\n",
    "\t\t\t\t+ str(test_list3))\n"
   ]
  },
  {
   "cell_type": "code",
   "execution_count": 11,
   "id": "1667696e-c147-48ec-9937-caf70bcacdd4",
   "metadata": {},
   "outputs": [
    {
     "name": "stdout",
     "output_type": "stream",
     "text": [
      "Multiplied list: [20, 40, 60, 80, 100]\n"
     ]
    }
   ],
   "source": [
    "#24. Multiply all elements in a list by 2.\n",
    "my_list = [10, 20, 30, 40, 50]\n",
    "multiplied_list = [x * 2 for x in my_list]\n",
    "print(\"Multiplied list:\", multiplied_list)"
   ]
  },
  {
   "cell_type": "code",
   "execution_count": 15,
   "id": "0bed349f-da8c-42ec-ab4e-d1d8d5a69eb1",
   "metadata": {},
   "outputs": [
    {
     "name": "stdout",
     "output_type": "stream",
     "text": [
      "[2, 4]\n"
     ]
    }
   ],
   "source": [
    "#25. Filter out all even numbers from a list\n",
    "lis = [1, 2, 3, 4, 5]\n",
    "out = []\n",
    "\n",
    "for num in lis:\n",
    "\tif num % 2 == 0:\n",
    "\t\tout.append(num)\n",
    "print(out)\n"
   ]
  },
  {
   "cell_type": "code",
   "execution_count": 16,
   "id": "e5d91d1a-18ad-479f-93c5-acfdec1db9ca",
   "metadata": {},
   "outputs": [
    {
     "name": "stdout",
     "output_type": "stream",
     "text": [
      "Modified list is:  [1, -4, 3, -6, 7]\n"
     ]
    }
   ],
   "source": [
    "#26. Convert a list of strings to a list of integers.\n",
    "lis = ['1', '-4', '3', '-6', '7']\n",
    "res = [eval(i) for i in lis]\n",
    "print(\"Modified list is: \", res)\n"
   ]
  },
  {
   "cell_type": "code",
   "execution_count": 18,
   "id": "2bd4fbe0-7ff0-4589-9a13-115fd4ab5952",
   "metadata": {},
   "outputs": [
    {
     "name": "stdout",
     "output_type": "stream",
     "text": [
      "['1', '12', '15', '21', '131']\n"
     ]
    }
   ],
   "source": [
    "#27. Convert a list of integers to a list of strings.\n",
    "list_string = [1, 12, 15, 21, 131]\n",
    "output = [str(x) for x in list_string]\n",
    "print(output)\n"
   ]
  },
  {
   "cell_type": "code",
   "execution_count": 19,
   "id": "93dac338-cc20-465f-b8ec-a9d8b6372ef6",
   "metadata": {},
   "outputs": [
    {
     "name": "stdout",
     "output_type": "stream",
     "text": [
      "[1, 2, 3, 4, 5, 6, 7]\n"
     ]
    }
   ],
   "source": [
    "#28. Flatten a nested list.\n",
    "my_list = [[1], [2, 3], [4, 5, 6, 7]]\n",
    "\n",
    "flat_list = [num for sublist in my_list for num in sublist]\n",
    "print(flat_list)"
   ]
  },
  {
   "cell_type": "code",
   "execution_count": 29,
   "id": "e2cd5c5e-d2b0-425d-9630-eb2fd7209c42",
   "metadata": {},
   "outputs": [
    {
     "name": "stdout",
     "output_type": "stream",
     "text": [
      "[0, 1, 1, 2, 3, 5, 8, 13, 21, 34]\n"
     ]
    }
   ],
   "source": [
    "#29. Create a list of the first 10 Fibonacci numbers.\n",
    "def fibonacci(n):\n",
    "    fib_numbers = [0, 1]\n",
    "    while len(fib_numbers) < n:\n",
    "        fib_numbers.append(fib_numbers[-1] + fib_numbers[-2])\n",
    "    return fib_numbers[:n]\n",
    "fibonacci_numbers = fibonacci(10)\n",
    "\n",
    "print(fibonacci_numbers)\n"
   ]
  },
  {
   "cell_type": "code",
   "execution_count": 30,
   "id": "f545a5b7-849b-4f40-982f-e0770a30ef04",
   "metadata": {},
   "outputs": [
    {
     "name": "stdout",
     "output_type": "stream",
     "text": [
      "Original list : [1, 4, 5, 8, 10]\n",
      "Yes, List is sorted.\n"
     ]
    }
   ],
   "source": [
    "#30. Check if a list is sorted.\n",
    "test_list = [1, 4, 5, 8, 10]\n",
    "\n",
    "print (\"Original list : \" + str(test_list))\n",
    "\n",
    "flag = 0\n",
    "i = 1\n",
    "while i < len(test_list):\n",
    "\tif(test_list[i] < test_list[i - 1]):\n",
    "\t\tflag = 1\n",
    "\ti += 1\n",
    "if (not flag) :\n",
    "\tprint (\"Yes, List is sorted.\")\n",
    "else :\n",
    "\tprint (\"No, List is not sorted.\")\n"
   ]
  },
  {
   "cell_type": "code",
   "execution_count": 38,
   "id": "faeb4dbc-cdbc-4a7f-94f0-b43f66ab3402",
   "metadata": {},
   "outputs": [
    {
     "name": "stdout",
     "output_type": "stream",
     "text": [
      "Original list : [1, 4, 6, 7, 2]\n",
      "List after left rotate by 3 : [7, 2, 1, 4, 6]\n",
      "List after right rotate by 3(back to original) : [1, 4, 6, 7, 2]\n"
     ]
    }
   ],
   "source": [
    "#31. Rotate a list to the left by `n` positions.\n",
    "test_list = [1, 4, 6, 7, 2]\n",
    "print (\"Original list : \" + str(test_list))\n",
    "\n",
    "test_list = test_list[3:] + test_list[:3]\n",
    "\n",
    "print (\"List after left rotate by 3 : \" + str(test_list))\n",
    "\n",
    "test_list = test_list[-3:] + test_list[:-3]\n",
    "\n",
    "print (\"List after right rotate by 3(back to original) : \"\n",
    "\t\t\t\t\t\t\t\t\t\t+ str(test_list))\n",
    "\n"
   ]
  },
  {
   "cell_type": "code",
   "execution_count": 37,
   "id": "c70d7f90-88b5-46af-80fa-9e3972cfe9e5",
   "metadata": {},
   "outputs": [
    {
     "name": "stdout",
     "output_type": "stream",
     "text": [
      "[4, 5, 6, 1, 2, 3]\n"
     ]
    }
   ],
   "source": [
    "#32. Rotate a list to the right by `n` positions.\n",
    "# Python program to right rotate \n",
    "# a list by n using list slicing\n",
    "n = 3\n",
    "\n",
    "list_1 = [1, 2, 3, 4, 5, 6]\n",
    "list_1 = (list_1[len(list_1) - n:len(list_1)] \n",
    "\t\t\t\t+ list_1[0:len(list_1) - n])\n",
    "print(list_1)\n",
    "\n"
   ]
  },
  {
   "cell_type": "code",
   "execution_count": 39,
   "id": "9b435a06-b799-4001-8720-2d6660c39ce4",
   "metadata": {},
   "outputs": [
    {
     "name": "stdout",
     "output_type": "stream",
     "text": [
      "3\n",
      "5\n",
      "7\n",
      "9\n",
      "11\n",
      "13\n",
      "15\n",
      "17\n",
      "19\n",
      "21\n",
      "23\n",
      "25\n",
      "27\n",
      "29\n",
      "31\n",
      "33\n",
      "35\n",
      "37\n",
      "39\n",
      "41\n",
      "43\n",
      "45\n",
      "47\n",
      "49\n"
     ]
    }
   ],
   "source": [
    "#33. Create a list of prime numbers up to 50.\n",
    "for num in range(1, 50):\n",
    "    for i in range(2, num):\n",
    "        if num % i == 0:\n",
    "            break\n",
    "        else:\n",
    "            print(num)\n",
    "            break"
   ]
  },
  {
   "cell_type": "code",
   "execution_count": 42,
   "id": "a8aae17c-3d71-4af2-ae2e-8b448a465350",
   "metadata": {},
   "outputs": [
    {
     "name": "stdout",
     "output_type": "stream",
     "text": [
      "[1, 2, 3]\n",
      "[4, 5, 6]\n",
      "[7, 8, 9]\n"
     ]
    }
   ],
   "source": [
    "#34. Split a list into chunks of size `n`.\n",
    "my_list = [1, 2, 3, 4, 5, \n",
    "\t\t6, 7, 8, 9] \n",
    "start = 0\n",
    "end = len(my_list) \n",
    "step = 3\n",
    "for i in range(start, end, step): \n",
    "\tx = i \n",
    "\tprint(my_list[x:x+step]) \n",
    "\n"
   ]
  },
  {
   "cell_type": "code",
   "execution_count": 43,
   "id": "3aa1dd1a-cea9-4fd4-bd52-853afd87ab81",
   "metadata": {},
   "outputs": [
    {
     "name": "stdout",
     "output_type": "stream",
     "text": [
      "45\n"
     ]
    }
   ],
   "source": [
    "#35. Find the second largest number in a list.\n",
    "lst = [10, 20, 4, 45, 99] \n",
    "m=max(lst)\n",
    "x=[a for i,a in enumerate(lst) if a<m]\n",
    "print(max(x))\n"
   ]
  },
  {
   "cell_type": "code",
   "execution_count": 45,
   "id": "1789271c-0791-4c69-9e22-bbe2826ecb37",
   "metadata": {},
   "outputs": [
    {
     "name": "stdout",
     "output_type": "stream",
     "text": [
      "[1, 9, 16, 25, 36, 49]\n"
     ]
    }
   ],
   "source": [
    "#36. Replace every element in a list with its square.\n",
    "data=[1,3,4,5,6,7]\n",
    "\n",
    "result = [i*i for i in data]\n",
    "print(result)\n"
   ]
  },
  {
   "cell_type": "code",
   "execution_count": 47,
   "id": "0937f885-569e-4d44-9190-b7d73fd266a0",
   "metadata": {},
   "outputs": [
    {
     "name": "stdout",
     "output_type": "stream",
     "text": [
      "{0: 'a', 1: 'b', 2: 'c', 3: 'd', 4: 'e'}\n"
     ]
    }
   ],
   "source": [
    "#37. Convert a list to a dictionary where list elements become keys and their indices become values.\n",
    "def list_to_dict_with_index(lst):\n",
    "\tdict_with_index = {index: value for index, value in enumerate(lst)}\n",
    "\treturn dict_with_index\n",
    "\n",
    "if __name__ == \"__main__\":\n",
    "\tsample_list = ['a', 'b', 'c', 'd', 'e']\n",
    "\tresult_dict = list_to_dict_with_index(sample_list)\n",
    "\tprint(result_dict)\n"
   ]
  },
  {
   "cell_type": "code",
   "execution_count": 48,
   "id": "c1784888-68cf-440b-aeb6-e70eb953bd75",
   "metadata": {},
   "outputs": [
    {
     "name": "stdout",
     "output_type": "stream",
     "text": [
      "Original list: [1, 2, 3, 4, 5]\n",
      "Shuffled list: [1, 2, 4, 5, 3]\n"
     ]
    }
   ],
   "source": [
    "#38. Shuffle the elements of a list randomly.\n",
    "import random\n",
    "\n",
    "my_list = [1, 2, 3, 4, 5]\n",
    "\n",
    "shuffled_list = sorted(my_list, key=lambda x: random.random())\n",
    "\n",
    "print(\"Original list:\", my_list)\n",
    "print(\"Shuffled list:\", shuffled_list)\n"
   ]
  },
  {
   "cell_type": "code",
   "execution_count": 49,
   "id": "581abe47-b00e-4214-aabb-5ded7d9e6858",
   "metadata": {},
   "outputs": [
    {
     "name": "stdout",
     "output_type": "stream",
     "text": [
      "Factorial of 1 is 1\n",
      "Factorial of 2 is 2\n",
      "Factorial of 3 is 12\n",
      "Factorial of 4 is 288\n",
      "Factorial of 5 is 34560\n"
     ]
    }
   ],
   "source": [
    "#39. Create a list of the first 10 factorial numbers.\n",
    "input_set = {1, 2, 3, 4, 5}\n",
    "fact = 1\n",
    "for item in input_set:\n",
    "    for number in range(1,item+1):\n",
    "        fact = fact * number\n",
    "    print (\"Factorial of\", item, \"is\", fact)"
   ]
  },
  {
   "cell_type": "code",
   "execution_count": 50,
   "id": "26a70d07-7ebc-439a-b1d3-af56f0ebf35b",
   "metadata": {},
   "outputs": [
    {
     "name": "stdout",
     "output_type": "stream",
     "text": [
      "True\n"
     ]
    }
   ],
   "source": [
    "#40. Check if two lists have at least one element in common.\n",
    "# Python code to check if two lists\n",
    "# have any element in common\n",
    "\n",
    "def find_common_elements(list1, list2):\n",
    "\n",
    "\tif not list1 or not list2:\n",
    "\t\treturn False\n",
    "\tif list1[0] in list2:\n",
    "\t\treturn True\n",
    "\treturn find_common_elements(list1[1:], list2)\n",
    "\n",
    "list1 = [1, 2, 3, 4, 55]\n",
    "list2 = [2, 3, 90, 22]\n",
    "if find_common_elements(list1, list2):\n",
    "\tprint(\"True\")\n",
    "else:\n",
    "\tprint(\"False\")"
   ]
  },
  {
   "cell_type": "code",
   "execution_count": 62,
   "id": "aa44ae15-75cc-43da-98cc-afaccd0264d0",
   "metadata": {},
   "outputs": [
    {
     "name": "stdout",
     "output_type": "stream",
     "text": [
      "list before clear: [6, 0, 4, 1]\n",
      "list after clear: []\n"
     ]
    }
   ],
   "source": [
    "#41. Remove all elements from a list.\n",
    "list = [6, 0, 4, 1]\n",
    "print('list before clear:', list)\n",
    "\n",
    "# Clearing list\n",
    "list.clear()\n",
    "print('list after clear:', list)\n",
    "\n"
   ]
  },
  {
   "cell_type": "code",
   "execution_count": 1,
   "id": "427d4022-1410-4c27-ba51-45f1c968e40b",
   "metadata": {},
   "outputs": [
    {
     "name": "stdout",
     "output_type": "stream",
     "text": [
      "List before changes: [1, 2, 3, 4, -1, -4, 5, -6]\n",
      "List after changes: [1, 2, 3, 4, 0, 0, 5, 0]\n"
     ]
    }
   ],
   "source": [
    "#42. Replace negative numbers in a list with 0.\n",
    "given_list = [1, 2, 3, 4, -1, -4, 5, -6]\n",
    "\n",
    "print(f'List before changes: {given_list}')\n",
    "\n",
    "for i in range(len(given_list)):\n",
    "    if given_list[i] < 0:\n",
    "        given_list[i] = 0\n",
    "\n",
    "print(f'List after changes: {given_list}')"
   ]
  },
  {
   "cell_type": "code",
   "execution_count": 3,
   "id": "d829d4f8-01d7-48d5-956b-941e8c846298",
   "metadata": {},
   "outputs": [
    {
     "name": "stdout",
     "output_type": "stream",
     "text": [
      "['Hello', 'Everyone', 'Welcome', 'to', 'PWskills']\n"
     ]
    }
   ],
   "source": [
    "#43. Convert a string into a list of words.\n",
    "str1 = \"Hello Everyone Welcome to PWskills\"\n",
    "\n",
    "res = str1.split()\n",
    "print(res)"
   ]
  },
  {
   "cell_type": "code",
   "execution_count": 10,
   "id": "1434275e-b39d-4a29-9b5f-9401a59a9fad",
   "metadata": {},
   "outputs": [
    {
     "name": "stdout",
     "output_type": "stream",
     "text": [
      "Hello Everyone Welcome to PWskills\n"
     ]
    }
   ],
   "source": [
    "#44. Convert a list of words into a string.\n",
    "list1 = ['Hello', 'Everyone', 'Welcome', 'to', 'PWskills']\n",
    "\n",
    "\n",
    "res = \" \".join(list1)\n",
    "print(res)"
   ]
  },
  {
   "cell_type": "code",
   "execution_count": 16,
   "id": "013935da-fd46-4938-8807-23c00759f8be",
   "metadata": {},
   "outputs": [
    {
     "name": "stdout",
     "output_type": "stream",
     "text": [
      "[1, 2, 4, 8, 16, 32, 64, 128, 256, 512]\n"
     ]
    }
   ],
   "source": [
    "#45. Create a list of the first `n` powers of 2.\n",
    "def generate_powers_of_2(n):\n",
    "    powers_of_2 = [2 ** i for i in range(n)]\n",
    "    return powers_of_2\n",
    "\n",
    "n = 10\n",
    "powers_list = generate_powers_of_2(n)\n",
    "print(powers_list)\n"
   ]
  },
  {
   "cell_type": "code",
   "execution_count": 23,
   "id": "fb6b9d5b-a4c1-41b8-89e4-587b94eb18c2",
   "metadata": {},
   "outputs": [
    {
     "name": "stdout",
     "output_type": "stream",
     "text": [
      "banana\n"
     ]
    }
   ],
   "source": [
    "#46. Find the longest string in a list of strings.\n",
    "x = ['apple', 'banana', 'fig', 'mango']\n",
    "longest = max(x, key=len)\n",
    "print(longest)"
   ]
  },
  {
   "cell_type": "code",
   "execution_count": 22,
   "id": "bd917dde-1a8e-4066-9e2b-37a4337f6754",
   "metadata": {},
   "outputs": [
    {
     "name": "stdout",
     "output_type": "stream",
     "text": [
      "fig\n"
     ]
    }
   ],
   "source": [
    "#47. Find the shortest string in a list of strings.\n",
    "x = ['apple', 'banana', 'fig', 'mango']\n",
    "shortest = min(x, key=len)\n",
    "print(shortest)\n"
   ]
  },
  {
   "cell_type": "code",
   "execution_count": 24,
   "id": "4f968fee-1f71-4bf4-94df-056c6fc298f2",
   "metadata": {},
   "outputs": [
    {
     "name": "stdout",
     "output_type": "stream",
     "text": [
      "1 3 6 10 15 "
     ]
    }
   ],
   "source": [
    "#48. Create a list of the first `n` triangular numbers.\n",
    "\n",
    "def triangular_series(n):\n",
    "\n",
    "\tfor i in range(1, n + 1):\n",
    "\t\tprint( i*(i+1)//2,end=' ')\n",
    "\n",
    "n = 5\n",
    "triangular_series(n) \n"
   ]
  },
  {
   "cell_type": "code",
   "execution_count": 25,
   "id": "26976ed5-2871-4be8-8294-629c7f052cf4",
   "metadata": {},
   "outputs": [
    {
     "name": "stdout",
     "output_type": "stream",
     "text": [
      "Original list : [9, 4, 5, 8, 10]\n",
      "Original sub list : [10, 5]\n",
      "Yes, list is subset of other.\n"
     ]
    }
   ],
   "source": [
    "#49. Check if a list contains another list as a subsequence.\n",
    "test_list = [9, 4, 5, 8, 10]\n",
    "sub_list = [10, 5]\n",
    "\n",
    "print(\"Original list : \" + str(test_list))\n",
    "print(\"Original sub list : \" + str(sub_list))\n",
    "\n",
    "flag = 0\n",
    "if(set(sub_list).issubset(set(test_list))):\n",
    "\tflag = 1\n",
    "\n",
    "if (flag):\n",
    "\tprint(\"Yes, list is subset of other.\")\n",
    "else:\n",
    "\tprint(\"No, list is not subset of other.\")\n"
   ]
  },
  {
   "cell_type": "code",
   "execution_count": 28,
   "id": "8552435b-262c-4504-a200-b6608eefc785",
   "metadata": {},
   "outputs": [
    {
     "name": "stdout",
     "output_type": "stream",
     "text": [
      "List of fruits before swap:\n",
      "['oranges', 'grapes', 'bananas']\n",
      "List of fruits after swap:\n",
      "['bananas', 'grapes', 'oranges']\n"
     ]
    }
   ],
   "source": [
    "#50. Swap two elements in a list by their indices.\n",
    "fruits = [\"oranges\", \"grapes\", \"bananas\"]\n",
    "\n",
    "print(\"List of fruits before swap:\")\n",
    "print(fruits)\n",
    "\n",
    "fruits[0], fruits[2] = fruits[2], fruits[0]\n",
    "\n",
    "print(\"List of fruits after swap:\")\n",
    "print(fruits)"
   ]
  },
  {
   "cell_type": "code",
   "execution_count": 29,
   "id": "ecc34b0e-4ddf-44bf-a520-9868d2962240",
   "metadata": {},
   "outputs": [],
   "source": [
    "#Tuple Based Practice Problem :"
   ]
  },
  {
   "cell_type": "code",
   "execution_count": 30,
   "id": "75b42478-c3fd-429a-bec3-5537cb9411bd",
   "metadata": {},
   "outputs": [
    {
     "name": "stdout",
     "output_type": "stream",
     "text": [
      "(1, 2, 3, 4, 5)\n"
     ]
    }
   ],
   "source": [
    "#1. Create a tuple with integers from 1 to 5.\n",
    "t = (1,2,3,4,5)\n",
    "\n",
    "print(t)"
   ]
  },
  {
   "cell_type": "code",
   "execution_count": 31,
   "id": "1cb25829-1241-4115-a05e-5cc60b8f2c90",
   "metadata": {},
   "outputs": [
    {
     "data": {
      "text/plain": [
       "tuple"
      ]
     },
     "execution_count": 31,
     "metadata": {},
     "output_type": "execute_result"
    }
   ],
   "source": [
    "type(t)"
   ]
  },
  {
   "cell_type": "code",
   "execution_count": 32,
   "id": "63e163b8-1090-43cf-8217-f97e9a50897f",
   "metadata": {},
   "outputs": [
    {
     "data": {
      "text/plain": [
       "3"
      ]
     },
     "execution_count": 32,
     "metadata": {},
     "output_type": "execute_result"
    }
   ],
   "source": [
    "#2. Access the third element of a tuple.\n",
    "t = (1,2,3,4,5)\n",
    "t[2]"
   ]
  },
  {
   "cell_type": "code",
   "execution_count": 35,
   "id": "6fb46002-1e28-4cef-80c3-ae905bba679c",
   "metadata": {},
   "outputs": [
    {
     "name": "stdout",
     "output_type": "stream",
     "text": [
      "5\n"
     ]
    }
   ],
   "source": [
    "#3. Find the length of a tuple without using the `len()` function.\n",
    "def find_tuple_length(tuple_var):\n",
    "    count = 0\n",
    "    for _ in tuple_var:\n",
    "        count += 1\n",
    "    return count\n",
    "\n",
    "my_tuple = (1, 2, 3, 4, 5)\n",
    "length_of_tuple = find_tuple_length(my_tuple)\n",
    "print(length_of_tuple)\n"
   ]
  },
  {
   "cell_type": "code",
   "execution_count": 37,
   "id": "efb2fa26-469d-4ffb-aee9-23844c7566a3",
   "metadata": {},
   "outputs": [
    {
     "name": "stdout",
     "output_type": "stream",
     "text": [
      "2\n"
     ]
    }
   ],
   "source": [
    "#4. Count the occurrences of an element in a tuple.\n",
    "vowels = ('a', 'e', 'i', 'o', 'i', 'u')\n",
    "\n",
    "count = vowels.count('i')\n",
    "\n",
    "print(count) "
   ]
  },
  {
   "cell_type": "code",
   "execution_count": 38,
   "id": "cbbc9a28-3d61-4ec8-bc54-7021fef60e3d",
   "metadata": {},
   "outputs": [
    {
     "name": "stdout",
     "output_type": "stream",
     "text": [
      "2\n"
     ]
    }
   ],
   "source": [
    "#5. Find the index of the first occurrence of an element in a tuple.\n",
    "my_tuple = ( 4, 2, 5, 6, 7, 5)\n",
    "print(my_tuple.index(5))\n"
   ]
  },
  {
   "cell_type": "code",
   "execution_count": 39,
   "id": "161b3c43-45f9-43b4-bc81-eeccec416930",
   "metadata": {},
   "outputs": [
    {
     "name": "stdout",
     "output_type": "stream",
     "text": [
      "The original tuple : (10, 4, 5, 6, 8)\n",
      "Does tuple contain required value ? : True\n"
     ]
    }
   ],
   "source": [
    "#6. Check if an element exists in a tuple.\n",
    "\n",
    "test_tup = (10, 4, 5, 6, 8)\n",
    "\n",
    "print(\"The original tuple : \" + str(test_tup))\n",
    "N = 6\n",
    "\n",
    "res = False\n",
    "for ele in test_tup:\n",
    "\tif N == ele:\n",
    "\t\tres = True\n",
    "\t\tbreak\n",
    "\n",
    "print(\"Does tuple contain required value ? : \" + str(res))\n"
   ]
  },
  {
   "cell_type": "code",
   "execution_count": 40,
   "id": "1d7c5bbe-2375-4728-b289-02a29a9579dd",
   "metadata": {},
   "outputs": [
    {
     "data": {
      "text/plain": [
       "[2, 4, 56, 7, 54, 'sanju', (65+6j), False]"
      ]
     },
     "execution_count": 40,
     "metadata": {},
     "output_type": "execute_result"
    }
   ],
   "source": [
    "#7. Convert a tuple to a list.\n",
    "t = (2,4,56,7,54,'sanju', 65+6j, False)\n",
    "list(t)"
   ]
  },
  {
   "cell_type": "code",
   "execution_count": 41,
   "id": "9bdbd970-f8b8-4318-a9ae-0c3240a8601c",
   "metadata": {},
   "outputs": [
    {
     "data": {
      "text/plain": [
       "(2, 4, 56, 7, 54, 'sanju', (65+6j), False)"
      ]
     },
     "execution_count": 41,
     "metadata": {},
     "output_type": "execute_result"
    }
   ],
   "source": [
    "#8. Convert a list to a tuple.\n",
    "l=[2, 4, 56, 7, 54, 'sanju', (65+6j), False]\n",
    "tuple(l)"
   ]
  },
  {
   "cell_type": "code",
   "execution_count": 42,
   "id": "f36ee42b-4c53-4db3-9dd6-6a4d332ff768",
   "metadata": {},
   "outputs": [
    {
     "name": "stdout",
     "output_type": "stream",
     "text": [
      "Malnad\n",
      "5000\n",
      "Engineering\n"
     ]
    }
   ],
   "source": [
    "#9. Unpack the elements of a tuple into variables.\n",
    "a = (\"Malnad\", 5000, \"Engineering\") \n",
    "\n",
    "(college, student, type_ofcollege) = a \n",
    "\n",
    "print(college)\n",
    "\n",
    "print(student)\n",
    "\n",
    "print(type_ofcollege)\n"
   ]
  },
  {
   "cell_type": "code",
   "execution_count": 43,
   "id": "6df5e3e1-384e-4a5e-ac68-77424e94c3b6",
   "metadata": {},
   "outputs": [
    {
     "name": "stdout",
     "output_type": "stream",
     "text": [
      "20 58 "
     ]
    }
   ],
   "source": [
    "#10. Create a tuple of even numbers from 1 to 10.\n",
    "def evens(nums_list):\n",
    "   for num in nums_list:\n",
    "         if num % 2 == 0:\n",
    "            print(num, end=' ')\n",
    "\n",
    "evens([5, 20, 21, 58, 3])\n"
   ]
  },
  {
   "cell_type": "code",
   "execution_count": 44,
   "id": "589e4909-bec0-411b-9de3-0c4b1bf4fe04",
   "metadata": {},
   "outputs": [
    {
     "name": "stdout",
     "output_type": "stream",
     "text": [
      "5 21 3 "
     ]
    }
   ],
   "source": [
    "#11. Create a tuple of odd numbers from 1 to 10.\n",
    "def odds(nums_list):\n",
    "   for num in nums_list:\n",
    "         if num % 2 != 0:\n",
    "            print(num, end=' ')\n",
    "\n",
    "odds([5, 20, 21, 58, 3])"
   ]
  },
  {
   "cell_type": "code",
   "execution_count": 47,
   "id": "15628546-6fc3-4be7-a21a-8bfeb7cb6d60",
   "metadata": {},
   "outputs": [
    {
     "name": "stdout",
     "output_type": "stream",
     "text": [
      "(2, 4, 56, 7, 54, 'sanju', (65+6j), False, 2, 4, 5, 'sanjay', 0.87, 0)\n"
     ]
    }
   ],
   "source": [
    "#12. Concatenate two tuples.\n",
    "t1 = (2,4,56,7,54,'sanju', 65+6j, False)\n",
    "t2 = (2,4,5,'sanjay',.87,0)\n",
    "\n",
    "t=t1+t2\n",
    "print(t)"
   ]
  },
  {
   "cell_type": "code",
   "execution_count": 48,
   "id": "40dd8b46-e87f-4c92-8180-5fc2365e857f",
   "metadata": {},
   "outputs": [
    {
     "name": "stdout",
     "output_type": "stream",
     "text": [
      "(2, 4, 56, 7, 54, 'sanju', (65+6j), False, 2, 4, 56, 7, 54, 'sanju', (65+6j), False, 2, 4, 56, 7, 54, 'sanju', (65+6j), False)\n"
     ]
    }
   ],
   "source": [
    "#13. Repeat a tuple three times.\n",
    "t1 = (2,4,56,7,54,'sanju', 65+6j, False)\n",
    "print(t1*3)"
   ]
  },
  {
   "cell_type": "code",
   "execution_count": 50,
   "id": "acb8180a-7d15-4a28-ae68-0e701a5abcd9",
   "metadata": {},
   "outputs": [
    {
     "name": "stdout",
     "output_type": "stream",
     "text": [
      "A is not empty\n",
      "B is empty\n"
     ]
    }
   ],
   "source": [
    "#14. Check if a tuple is empty.\n",
    "A = (1, 2, 3)\n",
    "B = ()\n",
    "if A == ():\n",
    "   print(\"A is empty\")\n",
    "else:\n",
    "   print(\"A is not empty\")\n",
    "if B == ():\n",
    "   print(\"B is empty\")\n",
    "else:\n",
    "   print(\"B is not empty\")"
   ]
  },
  {
   "cell_type": "code",
   "execution_count": 52,
   "id": "fc25a48f-a042-4424-a4ce-ea12fa73d954",
   "metadata": {},
   "outputs": [
    {
     "name": "stdout",
     "output_type": "stream",
     "text": [
      "((10, 'Itika', 13000), (24, 'Harry', 15294), (15, 'Naill', 20001), (40, 'Peter', 16395))\n"
     ]
    }
   ],
   "source": [
    "#15. Create a nested tuple.\n",
    "\n",
    "employee = ((10, \"Itika\", 13000), (24, \"Harry\", 15294), (15, \"Naill\", 20001), (40, \"Peter\", 16395))  \n",
    "print(employee)  "
   ]
  },
  {
   "cell_type": "code",
   "execution_count": 53,
   "id": "128bee7e-764e-4f46-9749-a4f4dd2290a1",
   "metadata": {},
   "outputs": [
    {
     "name": "stdout",
     "output_type": "stream",
     "text": [
      "2\n"
     ]
    }
   ],
   "source": [
    "#16. Access the first element of a nested tuple.\n",
    "t1 = (2,4,56,7,54,'sanju', 65+6j, False)\n",
    "print(t[0])"
   ]
  },
  {
   "cell_type": "code",
   "execution_count": 57,
   "id": "70899c87-a2ca-4798-a13f-8107d0d9ab37",
   "metadata": {},
   "outputs": [
    {
     "name": "stdout",
     "output_type": "stream",
     "text": [
      "('apple',)\n"
     ]
    }
   ],
   "source": [
    "#17. Create a tuple with a single element.\n",
    "thistuple = (\"apple\",)\n",
    "print(thistuple)"
   ]
  },
  {
   "cell_type": "code",
   "execution_count": 58,
   "id": "51bbb6b7-f277-4f03-9af8-0cdec5125cbf",
   "metadata": {},
   "outputs": [
    {
     "name": "stdout",
     "output_type": "stream",
     "text": [
      "False\n",
      "True\n",
      "False\n"
     ]
    }
   ],
   "source": [
    "#18. Compare two tuples.\n",
    "tuple1 = (1,2,3)\n",
    "tuple2 = (1,2,4)\n",
    " \n",
    "print (tuple1 == tuple2) \n",
    " \n",
    "print (tuple1 < tuple2)  \n",
    " \n",
    "print (tuple1 > tuple2)"
   ]
  },
  {
   "cell_type": "code",
   "execution_count": 69,
   "id": "011d1d28-fdac-48f9-8e69-85ba0d9dfebd",
   "metadata": {},
   "outputs": [],
   "source": [
    "#19. Delete a tuple.\n",
    "my_tuple = (1, 2, 3, 4, 5)\n",
    "del my_tuple\n"
   ]
  },
  {
   "cell_type": "code",
   "execution_count": 67,
   "id": "ea3a090b-ca08-466c-9f1c-d524b09e44c0",
   "metadata": {},
   "outputs": [
    {
     "name": "stdout",
     "output_type": "stream",
     "text": [
      "(3, 4, 5)\n"
     ]
    }
   ],
   "source": [
    "#20. Slice a tuple.\n",
    "my_tuple = (1, 2, 3, 4, 5, 6, 7, 8, 9, 10)\n",
    "sliced_tuple = my_tuple[2:5]\n",
    "print(sliced_tuple)\n"
   ]
  },
  {
   "cell_type": "code",
   "execution_count": 1,
   "id": "8dd41da0-2ed5-41aa-95e0-923fa8a82582",
   "metadata": {},
   "outputs": [
    {
     "name": "stdout",
     "output_type": "stream",
     "text": [
      "Maximum of Tuple is 6\n"
     ]
    }
   ],
   "source": [
    "#21. Find the maximum value in a tuple.\n",
    "Tuple = ( 1, 3, 4, 2, 5, 6 ) \n",
    "\n",
    "res = max(Tuple) \n",
    "print('Maximum of Tuple is', res) "
   ]
  },
  {
   "cell_type": "code",
   "execution_count": 2,
   "id": "572731c5-22b2-4843-afb2-fd8a70084201",
   "metadata": {},
   "outputs": [
    {
     "name": "stdout",
     "output_type": "stream",
     "text": [
      "Minimum of Tuple is 1\n"
     ]
    }
   ],
   "source": [
    "#22. Find the minimum value in a tuple.\n",
    "Tuple = ( 1, 3, 4, 2, 5, 6 ) \n",
    "\n",
    "res = min(Tuple) \n",
    "print('Minimum of Tuple is', res)"
   ]
  },
  {
   "cell_type": "code",
   "execution_count": 3,
   "id": "6b8478a4-7f53-4067-8e8c-04014e0d28a1",
   "metadata": {},
   "outputs": [
    {
     "name": "stdout",
     "output_type": "stream",
     "text": [
      "Tuple after getting conversion from String : (1, -5, 4, 6, 7)\n"
     ]
    }
   ],
   "source": [
    "#23. Convert a string to a tuple of characters.\n",
    "test_str = \"1, -5, 4, 6, 7\"\n",
    "res = tuple(map(int, test_str.split(', ')))\n",
    "\n",
    "print(\"Tuple after getting conversion from String : \" + str(res))"
   ]
  },
  {
   "cell_type": "code",
   "execution_count": 4,
   "id": "fc590b8a-b6ca-4231-90ab-ba3a98f2a403",
   "metadata": {},
   "outputs": [
    {
     "name": "stdout",
     "output_type": "stream",
     "text": [
      "pwskills\n"
     ]
    }
   ],
   "source": [
    "#24. Convert a tuple of characters to a string.\n",
    "def convertTuple(tup):\n",
    "\tstr = ''\n",
    "\tfor item in tup:\n",
    "\t\tstr = str + item\n",
    "\treturn str\n",
    "\n",
    "tuple = ('p', 'w', 's', 'k', 'i','l','l','s')\n",
    "str = convertTuple(tuple)\n",
    "print(str)"
   ]
  },
  {
   "cell_type": "code",
   "execution_count": 5,
   "id": "7036ab1e-19a2-48f3-bd92-539c62cb5527",
   "metadata": {},
   "outputs": [
    {
     "name": "stdout",
     "output_type": "stream",
     "text": [
      "('tuple', False, 3.2, 1)\n"
     ]
    }
   ],
   "source": [
    "#25. Create a tuple from multiple data types.\n",
    "tuplex = (\"tuple\", False, 3.2, 1)\n",
    "print(tuplex)\n"
   ]
  },
  {
   "cell_type": "code",
   "execution_count": 8,
   "id": "1563caa6-6ec9-4d07-ad1f-c062ecf22d71",
   "metadata": {},
   "outputs": [
    {
     "name": "stdout",
     "output_type": "stream",
     "text": [
      "The first list of tuple is : \n",
      "[(11, 14), (54, 58)]\n",
      "The second list of tuple is : \n",
      "[(98, 0), (10, 13)]\n",
      "Are the list of tuples identical?\n",
      "False\n"
     ]
    }
   ],
   "source": [
    "#26. Check if two tuples are identical.\n",
    "my_list_1 = [(11, 14), (54, 58)]\n",
    "my_list_2 = [(98, 0), (10, 13)]\n",
    "\n",
    "print(\"The first list of tuple is : \")\n",
    "print(my_list_1)\n",
    "print(\"The second list of tuple is : \")\n",
    "print(my_list_2)\n",
    "\n",
    "my_result = my_list_1 == my_list_2\n",
    "\n",
    "print(\"Are the list of tuples identical?\")\n",
    "print(my_result)"
   ]
  },
  {
   "cell_type": "code",
   "execution_count": 13,
   "id": "08e16a79-7203-4dea-bf5f-f30f696b5c0d",
   "metadata": {},
   "outputs": [
    {
     "name": "stdout",
     "output_type": "stream",
     "text": [
      "The original list is :  [(4, 5, 1), (6, 1, 5), (7, 4, 2), (6, 2, 4)]\n",
      "List after sorting tuple by Nth index sort :  [(6, 1, 5), (6, 2, 4), (7, 4, 2), (4, 5, 1)]\n"
     ]
    }
   ],
   "source": [
    "#27. Sort the elements of a tuple.\n",
    "\n",
    "test_list = [(4, 5, 1), (6, 1, 5), (7, 4, 2), (6, 2, 4)]\n",
    "\n",
    "print(\"The original list is : \" , test_list)\n",
    "\n",
    "N = 1\n",
    "\n",
    "test_list.sort(key = lambda x: x[N])\n",
    "\n",
    "print(\"List after sorting tuple by Nth index sort : \" ,test_list)\n"
   ]
  },
  {
   "cell_type": "code",
   "execution_count": 5,
   "id": "47535430-b3fa-463d-a529-f38982480493",
   "metadata": {},
   "outputs": [
    {
     "name": "stdout",
     "output_type": "stream",
     "text": [
      "('1', '2', '3', '4', '5')\n"
     ]
    }
   ],
   "source": [
    "#28. Convert a tuple of integers to a tuple of strings.\n",
    "def convert_to_strings(tuple_of_integers):\n",
    "    return tuple(str(x) for x in tuple_of_integers)\n",
    "\n",
    "tuple_of_integers = (1, 2, 3, 4, 5)\n",
    "tuple_of_strings = convert_to_strings(tuple_of_integers)\n",
    "print(tuple_of_strings)"
   ]
  },
  {
   "cell_type": "code",
   "execution_count": 29,
   "id": "def036ea-ef34-413e-9ed0-afad0a831f8e",
   "metadata": {},
   "outputs": [
    {
     "name": "stdout",
     "output_type": "stream",
     "text": [
      "The original string is : (7, 8, 9)\n",
      "The tuple after conversion is :  <generator object <genexpr> at 0x7fed280822d0>\n"
     ]
    }
   ],
   "source": [
    "##29. Convert a tuple of strings to a tuple of integers.\n",
    "test_str = \"(7, 8, 9)\" \n",
    "\n",
    "print(\"The original string is : \" + test_str)\n",
    "\n",
    "res = (int(num) for num in test_str.replace('(', '').replace(')', '').replace('...', '').split(', '))\n",
    "\n",
    "print(\"The tuple after conversion is : \" ,res)"
   ]
  },
  {
   "cell_type": "code",
   "execution_count": 21,
   "id": "94a0bb25-bb65-4897-b909-c7649180077d",
   "metadata": {},
   "outputs": [
    {
     "name": "stdout",
     "output_type": "stream",
     "text": [
      "The tuple after concatenation is :  (1, 3, 5, 4, 6)\n"
     ]
    }
   ],
   "source": [
    "#30. Merge two tuples.\n",
    "test_tup1 = (1, 3, 5)\n",
    "test_tup2 = (4, 6)\n",
    "\n",
    "res = sum((test_tup1, test_tup2), ())\n",
    "\n",
    "print(\"The tuple after concatenation is : \" , res)"
   ]
  },
  {
   "cell_type": "code",
   "execution_count": 25,
   "id": "0cfb8a9e-544a-4c31-b618-7f2d663dfad6",
   "metadata": {},
   "outputs": [
    {
     "name": "stdout",
     "output_type": "stream",
     "text": [
      "The original tuple :  ([5, 6], [6, 7, 8, 9], [3])\n",
      "The flattened tuple :  [5, 6, 6, 7, 8, 9, 3]\n"
     ]
    }
   ],
   "source": [
    "#31. Flatten a nested tuple.\n",
    "test_tuple = ([5, 6], [6, 7, 8, 9], [3])\n",
    "\n",
    "print(\"The original tuple : \" , test_tuple)\n",
    "\n",
    "res =(sum(test_tuple, []))\n",
    "\n",
    "print(\"The flattened tuple : \" ,res)"
   ]
  },
  {
   "cell_type": "code",
   "execution_count": 31,
   "id": "9f0f16a9-9091-4364-9edb-9ceda4fe6e5b",
   "metadata": {},
   "outputs": [
    {
     "name": "stdout",
     "output_type": "stream",
     "text": [
      "Enter lower bound of the interval:"
     ]
    },
    {
     "name": "stdin",
     "output_type": "stream",
     "text": [
      " 1\n"
     ]
    },
    {
     "name": "stdout",
     "output_type": "stream",
     "text": [
      "1\n",
      "Enter upper bound of the interval:"
     ]
    },
    {
     "name": "stdin",
     "output_type": "stream",
     "text": [
      " 10\n"
     ]
    },
    {
     "name": "stdout",
     "output_type": "stream",
     "text": [
      "10\n",
      "Prime numbers between 1 and 10 are:2 3 5 7 "
     ]
    }
   ],
   "source": [
    "#32. Create a tuple of the first 5 prime numbers.\n",
    "if __name__ == '__main__':\n",
    "\n",
    "\ta, b, i, j, flag = 0, 0, 0, 0, 0\n",
    "\n",
    "\tprint(\"Enter lower bound of the interval:\", \n",
    "\t\t\t\t\t\t\t\t\tend = \"\")\n",
    "\ta = int(input())\n",
    "\tprint(a)\n",
    "\n",
    "\tprint(\"Enter upper bound of the interval:\", \n",
    "\t\t\t\t\t\t\t\t\tend = \"\")\n",
    "\tb = int(input())\n",
    "\tprint(b)\n",
    "\n",
    "\tprint(\"Prime numbers between\", a, \"and\", \n",
    "\t\t\t\t\t\tb, \"are:\", end = \"\")\n",
    "\n",
    "\tfor i in range(a, b + 1):\n",
    "\n",
    "\t\tif (i == 1):\n",
    "\t\t\tcontinue\n",
    "\n",
    "\t\tflag = 1\n",
    "\t\t\n",
    "\t\tfor j in range(2, i // 2 + 1):\n",
    "\t\t\tif (i % j == 0):\n",
    "\t\t\t\tflag = 0\n",
    "\t\t\t\tbreak\n",
    "\n",
    "\t\tif (flag == 1):\n",
    "\t\t\tprint(i, end = \" \")\n"
   ]
  },
  {
   "cell_type": "code",
   "execution_count": 35,
   "id": "07d07ae4-0e42-4b6a-b82f-7ba8ecb23796",
   "metadata": {},
   "outputs": [
    {
     "name": "stdout",
     "output_type": "stream",
     "text": [
      "Is tuple Palindrome :  True\n"
     ]
    }
   ],
   "source": [
    "#33. Check if a tuple is a palindrome.\n",
    "test_tuple = (1, 4, 5, 4, 1)\n",
    "\n",
    "reverse = test_tuple[::-1]\n",
    "\n",
    "res = test_tuple == reverse\n",
    "\n",
    "print(\"Is tuple Palindrome : \" , res)\n"
   ]
  },
  {
   "cell_type": "code",
   "execution_count": 36,
   "id": "ee11a779-a386-4d71-a5a3-c2ef0a7381c9",
   "metadata": {},
   "outputs": [
    {
     "name": "stdout",
     "output_type": "stream",
     "text": [
      "The square of integers from 1 to 50 is: (1, 4, 9, 16)\n"
     ]
    }
   ],
   "source": [
    "#34. Create a tuple of squares of numbers from 1 to 5.\n",
    "tup = ()\n",
    "for i in range(1,5):\n",
    "    tup = tup + (i**2,)\n",
    "print(\"The square of integers from 1 to 50 is:\" ,tup)"
   ]
  },
  {
   "cell_type": "code",
   "execution_count": 37,
   "id": "ea74e77d-a2a7-4940-aaa6-51e93f0a9d61",
   "metadata": {},
   "outputs": [
    {
     "name": "stdout",
     "output_type": "stream",
     "text": [
      "After Filteration of all the tuple: [(2, 4)]\n"
     ]
    }
   ],
   "source": [
    "#35. Filter out all even numbers from a tuple.\n",
    "tuple_list = [(61, 14, 12, 18), (52, 61, 73, 69), (80, 111, 211),(2,4)]\n",
    "result = [tup for tup in tuple_list if all(ele % 2 == 0 for ele in tup)]\n",
    "print(\"After Filteration of all the tuple:\",result)"
   ]
  },
  {
   "cell_type": "code",
   "execution_count": 42,
   "id": "3620b936-2e7e-41bd-b176-98feac4c0f53",
   "metadata": {},
   "outputs": [
    {
     "name": "stdout",
     "output_type": "stream",
     "text": [
      "<generator object <genexpr> at 0x7fed28081e70>\n"
     ]
    }
   ],
   "source": [
    "#36. Multiply all elements in a tuple by 2\n",
    "my_tuple=(1,2,3,4,5)\n",
    "\n",
    "new_tuple = (x*2 for x in my_tuple)\n",
    "print(new_tuple)"
   ]
  },
  {
   "cell_type": "code",
   "execution_count": 45,
   "id": "1a32aad2-00d6-4432-bd0f-faeff3f05540",
   "metadata": {},
   "outputs": [
    {
     "name": "stdout",
     "output_type": "stream",
     "text": [
      "The N random tuples :  [(8, 7), (1, 5), (1, 1), (3, 1), (1, 0)]\n"
     ]
    }
   ],
   "source": [
    "#37. Create a tuple of random numbers.\n",
    "import random\n",
    "N = 5\n",
    "R = 10\n",
    "\n",
    "res = [divmod(ele, R + 1) for ele in random.sample(range((R + 1) * (R + 1)), N)]\n",
    " \n",
    "print(\"The N random tuples : \" ,res)\n"
   ]
  },
  {
   "cell_type": "code",
   "execution_count": 46,
   "id": "71bb22ed-203d-45fa-bb41-532119ccef26",
   "metadata": {},
   "outputs": [
    {
     "name": "stdout",
     "output_type": "stream",
     "text": [
      "Yes, List is sorted.\n"
     ]
    }
   ],
   "source": [
    "#38. Check if a tuple is sorted.\n",
    "test_list = [1, 4, 5, 8, 10]\n",
    "\n",
    "flag = 0\n",
    "i = 1\n",
    "while i < len(test_list):\n",
    "\tif(test_list[i] < test_list[i - 1]):\n",
    "\t\tflag = 1\n",
    "\ti += 1\n",
    "\n",
    "if (not flag) :\n",
    "\tprint (\"Yes, List is sorted.\")\n",
    "else :\n",
    "\tprint (\"No, List is not sorted.\")\n"
   ]
  },
  {
   "cell_type": "code",
   "execution_count": 52,
   "id": "6dd11b65-7737-47c1-90af-9447add4ecc0",
   "metadata": {},
   "outputs": [
    {
     "name": "stdout",
     "output_type": "stream",
     "text": [
      "(3, 4, 5, 1, 2)\n"
     ]
    }
   ],
   "source": [
    "#39. Rotate a tuple to the left by `n` position\n",
    "def rotate_tuple_left(tuple_to_rotate, n):\n",
    "\n",
    "    original_tuple = (1, 2, 3, 4, 5)\n",
    "    rotated_tuple = rotate_tuple_left(original_tuple, 2)\n",
    "print(rotated_tuple)\n"
   ]
  },
  {
   "cell_type": "code",
   "execution_count": 4,
   "id": "b3fe5655-af7e-4c5d-a81a-0acc8b75552e",
   "metadata": {},
   "outputs": [
    {
     "name": "stdout",
     "output_type": "stream",
     "text": [
      "(4, 5, 1, 2, 3)\n"
     ]
    }
   ],
   "source": [
    "#40. Rotate a tuple to the right by `n` positions.\n",
    "def rotate_tuple(tuple_to_rotate, n):\n",
    "    n = n % len(tuple_to_rotate)\n",
    "    return tuple_to_rotate[-n:] + tuple_to_rotate[:-n]\n",
    "\n",
    "\n",
    "original_tuple = (1, 2, 3, 4, 5)\n",
    "n = 2\n",
    "rotated_tuple = rotate_tuple(original_tuple, n)\n",
    "print(rotated_tuple)\n"
   ]
  },
  {
   "cell_type": "code",
   "execution_count": 12,
   "id": "d9730627-a7a0-4d1c-a783-7b4b71c95b93",
   "metadata": {},
   "outputs": [
    {
     "name": "stdout",
     "output_type": "stream",
     "text": [
      "5 terms of Fibonacci series are: (0, 1, 1, 2, 3)\n"
     ]
    }
   ],
   "source": [
    "#41. Create a tuple of the first 5 Fibonacci numbers.\n",
    "lst = [0,1]\n",
    "a = 0\n",
    "b = 1\n",
    "c = 0\n",
    "\n",
    "for i in range(3):\n",
    "    c = a + b\n",
    "    a = b\n",
    "    b = c\n",
    "    lst.append(c)\n",
    "\n",
    "tup = tuple(lst)\n",
    "\n",
    "print(\"5 terms of Fibonacci series are:\", tup)"
   ]
  },
  {
   "cell_type": "code",
   "execution_count": 23,
   "id": "3f97e6b3-5367-4b76-9986-e001ea6b1c57",
   "metadata": {},
   "outputs": [
    {
     "name": "stdin",
     "output_type": "stream",
     "text": [
      "enter no of rows :  3\n",
      " 3 3\n",
      " 2 3\n",
      " 1 5\n"
     ]
    },
    {
     "name": "stdout",
     "output_type": "stream",
     "text": [
      "[(3, 3), (2, 3), (1, 5)]\n"
     ]
    }
   ],
   "source": [
    "#42. Create a tuple from user input.\n",
    "t = list(tuple(map(int,input().split())) for r in range(int(input('enter no of rows : '))))  \n",
    "print(t) \n"
   ]
  },
  {
   "cell_type": "code",
   "execution_count": 24,
   "id": "284c4336-5254-4eda-acf4-cd6324f8f037",
   "metadata": {},
   "outputs": [
    {
     "name": "stdout",
     "output_type": "stream",
     "text": [
      "The original list is : [(3, 4), (6, 5), (7, 8)]\n",
      "The swapped tuple list is : [(4, 3), (5, 6), (8, 7)]\n"
     ]
    }
   ],
   "source": [
    "#43. Swap two elements in a tuple.\n",
    "test_list = [(3, 4), (6, 5), (7, 8)]\n",
    "\n",
    "print(\"The original list is : \" + str(test_list))\n",
    "\n",
    "res = [(sub[1], sub[0]) for sub in test_list]\n",
    "\n",
    "print(\"The swapped tuple list is : \" + str(res))\n"
   ]
  },
  {
   "cell_type": "code",
   "execution_count": 25,
   "id": "1a3d0ebb-e1ca-4991-937b-3da4f25f0237",
   "metadata": {},
   "outputs": [
    {
     "name": "stdout",
     "output_type": "stream",
     "text": [
      "('p', 'w', 's', 'k', 'i', 'l', 'l', 's')\n"
     ]
    }
   ],
   "source": [
    "#44. Reverse the elements of a tuple.\n",
    "def Reverse(tuples):\n",
    "\tnew_tup = tuples[::-1]\n",
    "\treturn new_tup\n",
    "\n",
    "tuples = ('s','l','l','i','k','s','w','p')\n",
    "print(Reverse(tuples))\n"
   ]
  },
  {
   "cell_type": "code",
   "execution_count": 28,
   "id": "0e0a2a47-f867-4466-a413-2ea71e41f87f",
   "metadata": {},
   "outputs": [
    {
     "name": "stdout",
     "output_type": "stream",
     "text": [
      "4\n"
     ]
    }
   ],
   "source": [
    "#45. Create a tuple of the first `n` powers of 2.\n",
    "from math import log2\n",
    "def numberOfWays(n, k):\n",
    "\n",
    "\tif (n == 0):\n",
    "\t\treturn 1\n",
    "\tif (k == 0):\n",
    "\t\treturn 1\n",
    "\tif (n >= pow(2, k)):\n",
    "\t\tcurr_val = pow(2, k)\n",
    "\t\treturn numberOfWays(n - curr_val, k) + numberOfWays(n, k - 1)\n",
    "\telse:\n",
    "\t\treturn numberOfWays(n, k - 1)\n",
    "if __name__ == '__main__':\n",
    "\tn = 4\n",
    "\tk = log2(n)\n",
    "\n",
    "\tprint(numberOfWays(n, k))"
   ]
  },
  {
   "cell_type": "code",
   "execution_count": 30,
   "id": "47cda106-8bf0-449b-8c7d-18d183d6e957",
   "metadata": {},
   "outputs": [
    {
     "name": "stdout",
     "output_type": "stream",
     "text": [
      "Longest string: banana\n"
     ]
    }
   ],
   "source": [
    "#46. Find the longest string in a tuple of strings.\n",
    "def longest_string_in_tuple(tuple_of_strings):\n",
    "    longest = \"\"\n",
    "    for string in tuple_of_strings:\n",
    "        if len(string) > len(longest):\n",
    "            longest = string\n",
    "    return longest\n",
    "\n",
    "tuple_of_strings = (\"apple\", \"banana\", \"cherry\", \"date\", \"fig\")\n",
    "longest_string = longest_string_in_tuple(tuple_of_strings)\n",
    "\n",
    "print(\"Longest string:\", longest_string)\n"
   ]
  },
  {
   "cell_type": "code",
   "execution_count": 31,
   "id": "e51dc57a-af1f-4f72-be54-2f7df30f36bf",
   "metadata": {},
   "outputs": [
    {
     "name": "stdout",
     "output_type": "stream",
     "text": [
      "Shortest string: fig\n"
     ]
    }
   ],
   "source": [
    "#47. Find the shortest string in a tuple of strings.\n",
    "def shortest_string_in_tuple(tuple_of_strings):\n",
    "    shortest = float('inf') \n",
    "    shortest_string = \"\"\n",
    "    for string in tuple_of_strings:\n",
    "        if len(string) < shortest:\n",
    "            shortest = len(string)\n",
    "            shortest_string = string\n",
    "    return shortest_string\n",
    "\n",
    "tuple_of_strings = (\"apple\", \"banana\", \"cherry\", \"date\", \"fig\")\n",
    "shortest_string = shortest_string_in_tuple(tuple_of_strings)\n",
    "\n",
    "print(\"Shortest string:\", shortest_string)\n"
   ]
  },
  {
   "cell_type": "code",
   "execution_count": 32,
   "id": "bc03dd45-ff78-4328-9ac0-a438583b85e8",
   "metadata": {},
   "outputs": [
    {
     "name": "stdout",
     "output_type": "stream",
     "text": [
      "(1, 3, 6, 10, 15)\n"
     ]
    }
   ],
   "source": [
    "#48. Create a tuple of the first `n` triangular numbers.\n",
    "def triangular_number(n):\n",
    "    return n * (n + 1) // 2\n",
    "\n",
    "def first_n_triangular_numbers(n):\n",
    "    return tuple(triangular_number(i) for i in range(1, n+1))\n",
    "\n",
    "n = 5\n",
    "triangular_numbers = first_n_triangular_numbers(n)\n",
    "print(triangular_numbers)\n"
   ]
  },
  {
   "cell_type": "code",
   "execution_count": 33,
   "id": "e175b079-4496-45c5-9cf3-dad9e5696af4",
   "metadata": {},
   "outputs": [
    {
     "name": "stdout",
     "output_type": "stream",
     "text": [
      "(2, 4) is a subsequence of (1, 2, 3, 4, 5)\n"
     ]
    }
   ],
   "source": [
    "#49. Check if a tuple contains another tuple as a subsequence.\n",
    "def is_subsequence(sub, main):\n",
    "    n = len(sub)\n",
    "    m = len(main)\n",
    "    i = 0\n",
    "    j = 0\n",
    "\n",
    "    while i < n and j < m:\n",
    "        if sub[i] == main[j]:\n",
    "            i += 1\n",
    "        j += 1\n",
    "\n",
    "    return i == n\n",
    "\n",
    "tuple1 = (1, 2, 3, 4, 5)\n",
    "tuple2 = (2, 4)\n",
    "\n",
    "result = is_subsequence(tuple2, tuple1)\n",
    "\n",
    "if result:\n",
    "    print(f\"{tuple2} is a subsequence of {tuple1}\")\n",
    "else:\n",
    "    print(f\"{tuple2} is not a subsequence of {tuple1}\")\n"
   ]
  },
  {
   "cell_type": "code",
   "execution_count": 34,
   "id": "edfe7673-72cb-4c38-870b-9beca1d7dd70",
   "metadata": {},
   "outputs": [
    {
     "name": "stdout",
     "output_type": "stream",
     "text": [
      "(0, 1, 0, 1, 0, 1, 0, 1, 0, 1)\n"
     ]
    }
   ],
   "source": [
    "#50. Create a tuple of alternating 1s and 0s of length `n`.\n",
    "n = 10 \n",
    "alternating_tuple = []\n",
    "\n",
    "for i in range(n):\n",
    "    alternating_tuple.append(i % 2)\n",
    "\n",
    "alternating_tuple = tuple(alternating_tuple)\n",
    "\n",
    "print(alternating_tuple)\n"
   ]
  },
  {
   "cell_type": "code",
   "execution_count": 35,
   "id": "51362cec-90d1-4df2-8daa-73b939c25514",
   "metadata": {},
   "outputs": [],
   "source": [
    "#Set Based Practice Problem :\n"
   ]
  },
  {
   "cell_type": "code",
   "execution_count": 36,
   "id": "0c319745-cd41-4157-9aaf-bde147ef3956",
   "metadata": {},
   "outputs": [
    {
     "name": "stdout",
     "output_type": "stream",
     "text": [
      "{1, 2, 3, 4, 5}\n"
     ]
    }
   ],
   "source": [
    "#1. Create a set with integers from 1 to 5.\n",
    "s = {1,2,3,4,5}\n",
    "\n",
    "print(s)"
   ]
  },
  {
   "cell_type": "code",
   "execution_count": 40,
   "id": "2c7c0607-271b-433c-9967-b9c81a4d7c07",
   "metadata": {},
   "outputs": [
    {
     "name": "stdout",
     "output_type": "stream",
     "text": [
      "{1, 2, 3, 4, 5, 6}\n"
     ]
    }
   ],
   "source": [
    "#2. Add an element to a set.\n",
    "s = {1,2,3,4,5}\n",
    "s.add(6)\n",
    "print(s)"
   ]
  },
  {
   "cell_type": "code",
   "execution_count": 44,
   "id": "77f4930b-cb5a-49ed-951f-a1526af8a204",
   "metadata": {},
   "outputs": [
    {
     "name": "stdout",
     "output_type": "stream",
     "text": [
      "{1, 2, 4, 5}\n"
     ]
    }
   ],
   "source": [
    "#3. Remove an element from a set.\n",
    "s = {1,2,3,4,5}\n",
    "s.remove(3)\n",
    "print(s)"
   ]
  },
  {
   "cell_type": "code",
   "execution_count": 45,
   "id": "1e2284dd-fc2e-4a0e-901d-57ae0c121fb7",
   "metadata": {},
   "outputs": [
    {
     "name": "stdout",
     "output_type": "stream",
     "text": [
      "3 exists in the set.\n"
     ]
    }
   ],
   "source": [
    "#4. Check if an element exists in a set.\n",
    "my_set = {1, 2, 3, 4, 5}\n",
    "element_to_check = 3\n",
    "\n",
    "if element_to_check in my_set:\n",
    "    print(f\"{element_to_check} exists in the set.\")\n",
    "else:\n",
    "    print(f\"{element_to_check} does not exist in the set.\")\n"
   ]
  },
  {
   "cell_type": "code",
   "execution_count": 46,
   "id": "645b9eff-838e-4ac0-b76d-19bbb59b89fe",
   "metadata": {},
   "outputs": [
    {
     "name": "stdout",
     "output_type": "stream",
     "text": [
      "Length of the set: 9\n"
     ]
    }
   ],
   "source": [
    "#5. Find the length of a set without using the `len()` function.\n",
    "my_set = {1, 2, 3, 4, 5, 6, 7, 8, 9}\n",
    "length = 0\n",
    "\n",
    "for _ in my_set:\n",
    "    length += 1\n",
    "\n",
    "print(\"Length of the set:\", length)\n"
   ]
  },
  {
   "cell_type": "code",
   "execution_count": 47,
   "id": "cbda50c3-539b-437f-9863-f272acf545c1",
   "metadata": {},
   "outputs": [
    {
     "name": "stdout",
     "output_type": "stream",
     "text": [
      "Cleared set: set()\n"
     ]
    }
   ],
   "source": [
    "#6. Clear all elements from a set.\n",
    "my_set = {1, 2, 3, 4, 5}\n",
    "\n",
    "my_set = set()\n",
    "\n",
    "print(\"Cleared set:\", my_set)\n"
   ]
  },
  {
   "cell_type": "code",
   "execution_count": 50,
   "id": "b49a9cf4-68fc-427d-aab5-d0faa5ba44ed",
   "metadata": {},
   "outputs": [
    {
     "name": "stdout",
     "output_type": "stream",
     "text": [
      "{2, 4, 6, 8, 10}\n"
     ]
    }
   ],
   "source": [
    "#7. Create a set of even numbers from 1 to 10.\n",
    "even_numbers_set = {x for x in range(1, 11) if x % 2 == 0}\n",
    "print(even_numbers_set)\n"
   ]
  },
  {
   "cell_type": "code",
   "execution_count": 51,
   "id": "ae57c90a-dc09-41f5-b46c-d43dc21eb7bc",
   "metadata": {},
   "outputs": [
    {
     "name": "stdout",
     "output_type": "stream",
     "text": [
      "{1, 3, 5, 7, 9}\n"
     ]
    }
   ],
   "source": [
    "#8. Create a set of odd numbers from 1 to 10.\n",
    "odd_numbers_set = {x for x in range(1, 11) if x % 2 != 0}\n",
    "print(odd_numbers_set)\n"
   ]
  },
  {
   "cell_type": "code",
   "execution_count": 52,
   "id": "f05d6d04-d1bd-4a92-871a-a6b221de1eb3",
   "metadata": {},
   "outputs": [
    {
     "name": "stdout",
     "output_type": "stream",
     "text": [
      "Union of set1 and set2: {1, 2, 3, 4, 5, 6, 7, 8}\n"
     ]
    }
   ],
   "source": [
    "#9. Find the union of two sets.\n",
    "set1 = {1, 2, 3, 4, 5}\n",
    "set2 = {4, 5, 6, 7, 8}\n",
    "\n",
    "union_set = set1 | set2\n",
    "\n",
    "print(\"Union of set1 and set2:\", union_set)\n"
   ]
  },
  {
   "cell_type": "code",
   "execution_count": 53,
   "id": "39bf449b-88ba-4ac2-ac04-013ebf44cc33",
   "metadata": {},
   "outputs": [
    {
     "name": "stdout",
     "output_type": "stream",
     "text": [
      "Intersection of set1 and set2: {4, 5}\n"
     ]
    }
   ],
   "source": [
    "#10. Find the intersection of two sets.\n",
    "set1 = {1, 2, 3, 4, 5}\n",
    "set2 = {4, 5, 6, 7, 8}\n",
    "\n",
    "intersection_set = set()\n",
    "\n",
    "for element in set1:\n",
    "    if element in set2:\n",
    "        intersection_set.add(element)\n",
    "\n",
    "print(\"Intersection of set1 and set2:\", intersection_set)\n"
   ]
  },
  {
   "cell_type": "code",
   "execution_count": 54,
   "id": "3ebe6180-d9d2-4a47-89a3-9177901e67d1",
   "metadata": {},
   "outputs": [
    {
     "name": "stdout",
     "output_type": "stream",
     "text": [
      "Difference between set1 and set2: {1, 2, 3}\n"
     ]
    }
   ],
   "source": [
    "#11. Find the difference between two sets.\n",
    "set1 = {1, 2, 3, 4, 5}\n",
    "set2 = {4, 5, 6, 7, 8}\n",
    "\n",
    "difference_set = set()\n",
    "\n",
    "for element in set1:\n",
    "    if element not in set2:\n",
    "        difference_set.add(element)\n",
    "\n",
    "print(\"Difference between set1 and set2:\", difference_set)\n"
   ]
  },
  {
   "cell_type": "code",
   "execution_count": 55,
   "id": "67dae0a4-0759-4c7b-8b86-86a0c1485a20",
   "metadata": {},
   "outputs": [
    {
     "name": "stdout",
     "output_type": "stream",
     "text": [
      "set1 is a subset of set2\n"
     ]
    }
   ],
   "source": [
    "#12. Check if a set is a subset of another set.\n",
    "set1 = {1, 2, 3}\n",
    "set2 = {1, 2, 3, 4, 5, 6}\n",
    "\n",
    "is_subset = True\n",
    "\n",
    "for element in set1:\n",
    "    if element not in set2:\n",
    "        is_subset = False\n",
    "        break\n",
    "\n",
    "if is_subset:\n",
    "    print(\"set1 is a subset of set2\")\n",
    "else:\n",
    "    print(\"set1 is not a subset of set2\")\n"
   ]
  },
  {
   "cell_type": "code",
   "execution_count": 56,
   "id": "fe048936-c40f-482c-bd8e-4682f71701b8",
   "metadata": {},
   "outputs": [
    {
     "name": "stdout",
     "output_type": "stream",
     "text": [
      "set1 is a superset of set2\n"
     ]
    }
   ],
   "source": [
    "#13. Check if a set is a superset of another set.\n",
    "set1 = {1, 2, 3, 4, 5, 6}\n",
    "set2 = {1, 2, 3}\n",
    "\n",
    "is_superset = True\n",
    "\n",
    "for element in set2:\n",
    "    if element not in set1:\n",
    "        is_superset = False\n",
    "        break\n",
    "\n",
    "if is_superset:\n",
    "    print(\"set1 is a superset of set2\")\n",
    "else:\n",
    "    print(\"set1 is not a superset of set2\")\n"
   ]
  },
  {
   "cell_type": "code",
   "execution_count": 57,
   "id": "b1fe87e7-1974-4e0c-b6e0-610053643001",
   "metadata": {},
   "outputs": [
    {
     "data": {
      "text/plain": [
       "{1, 2, 4, 6, 34, 55}"
      ]
     },
     "execution_count": 57,
     "metadata": {},
     "output_type": "execute_result"
    }
   ],
   "source": [
    "#14. Create a set from a list.\n",
    "l1 = [1,2,34,4,55,6]\n",
    "\n",
    "set(l1)"
   ]
  },
  {
   "cell_type": "code",
   "execution_count": 58,
   "id": "7b913310-7b24-45c1-911a-408132a6d1d7",
   "metadata": {},
   "outputs": [
    {
     "data": {
      "text/plain": [
       "[1, 2, 34, 4, 6, 55]"
      ]
     },
     "execution_count": 58,
     "metadata": {},
     "output_type": "execute_result"
    }
   ],
   "source": [
    "#15. Convert a set to a list.\n",
    "\n",
    "s1 = {1, 2, 4, 6, 34, 55}\n",
    "\n",
    "list(s1)"
   ]
  },
  {
   "cell_type": "code",
   "execution_count": 59,
   "id": "731fd541-45be-4926-9cab-f4b23dc2cf53",
   "metadata": {},
   "outputs": [
    {
     "name": "stdout",
     "output_type": "stream",
     "text": [
      "Removed element: 1\n",
      "Updated set: {2, 3, 4, 5}\n"
     ]
    }
   ],
   "source": [
    "#16. Remove a random element from a set.\n",
    "my_set = {1, 2, 3, 4, 5}\n",
    "\n",
    "removed_element = my_set.pop()\n",
    "\n",
    "print(\"Removed element:\", removed_element)\n",
    "print(\"Updated set:\", my_set)\n"
   ]
  },
  {
   "cell_type": "code",
   "execution_count": 67,
   "id": "b35e90eb-4b72-4a57-a601-cf18f29c458c",
   "metadata": {},
   "outputs": [
    {
     "name": "stdout",
     "output_type": "stream",
     "text": [
      "{2, 34, 4, 6, 55}\n"
     ]
    }
   ],
   "source": [
    "#17. Pop an element from a set.\n",
    "s1 = {1, 2, 4, 6, 34, 55}\n",
    "s1.pop()\n",
    "print(s1)"
   ]
  },
  {
   "cell_type": "code",
   "execution_count": 68,
   "id": "204be568-d237-41f8-b3c6-6fdd44e0d7d4",
   "metadata": {},
   "outputs": [
    {
     "name": "stdout",
     "output_type": "stream",
     "text": [
      "set1 and set2 have no elements in common\n"
     ]
    }
   ],
   "source": [
    "#18. Check if two sets have no elements in common.\n",
    "set1 = {1, 2, 3}\n",
    "set2 = {4, 5, 6}\n",
    "\n",
    "have_no_common_elements = True\n",
    "\n",
    "for element in set1:\n",
    "    if element in set2:\n",
    "        have_no_common_elements = False\n",
    "        break\n",
    "\n",
    "if have_no_common_elements:\n",
    "    print(\"set1 and set2 have no elements in common\")\n",
    "else:\n",
    "    print(\"set1 and set2 have elements in common\")\n"
   ]
  },
  {
   "cell_type": "code",
   "execution_count": 69,
   "id": "e5c795d8-c9f0-499d-8137-b94e44cdaa27",
   "metadata": {},
   "outputs": [
    {
     "name": "stdout",
     "output_type": "stream",
     "text": [
      "Symmetric Difference: {1, 2, 3, 6, 7, 8}\n"
     ]
    }
   ],
   "source": [
    "#19. Find the symmetric difference between two sets.\n",
    "set1 = {1, 2, 3, 4, 5}\n",
    "set2 = {4, 5, 6, 7, 8}\n",
    "\n",
    "symmetric_difference = set()\n",
    "\n",
    "for element in set1:\n",
    "    if element not in set2:\n",
    "        symmetric_difference.add(element)\n",
    "\n",
    "for element in set2:\n",
    "    if element not in set1:\n",
    "        symmetric_difference.add(element)\n",
    "\n",
    "print(\"Symmetric Difference:\", symmetric_difference)\n"
   ]
  },
  {
   "cell_type": "code",
   "execution_count": 70,
   "id": "3aca8190-b2d8-4bc9-8c0f-67b1a27b07a8",
   "metadata": {},
   "outputs": [
    {
     "name": "stdout",
     "output_type": "stream",
     "text": [
      "Updated set1: {1, 2, 3, 4, 5}\n"
     ]
    }
   ],
   "source": [
    "#20. Update a set with elements from another set.\n",
    "set1 = {1, 2, 3}\n",
    "set2 = {3, 4, 5}\n",
    "\n",
    "for element in set2:\n",
    "    set1.add(element)\n",
    "\n",
    "print(\"Updated set1:\", set1)\n"
   ]
  },
  {
   "cell_type": "code",
   "execution_count": 71,
   "id": "bb354a95-3fa3-4e3f-a389-5c2fc9a4d5c9",
   "metadata": {},
   "outputs": [
    {
     "name": "stdout",
     "output_type": "stream",
     "text": [
      "Set of the first 5 prime numbers: {2, 3, 5, 7, 11}\n"
     ]
    }
   ],
   "source": [
    "#21. Create a set of the first 5 prime numbers.\n",
    "prime_set = set()\n",
    "num = 2\n",
    "\n",
    "while len(prime_set) < 5:\n",
    "    is_prime = True\n",
    "    for i in range(2, int(num**0.5) + 1):\n",
    "        if num % i == 0:\n",
    "            is_prime = False\n",
    "            break\n",
    "    if is_prime:\n",
    "        prime_set.add(num)\n",
    "    num += 1\n",
    "\n",
    "print(\"Set of the first 5 prime numbers:\", prime_set)\n"
   ]
  },
  {
   "cell_type": "code",
   "execution_count": 72,
   "id": "d9427d14-c8a3-496c-a9b6-e8a72fdeb21d",
   "metadata": {},
   "outputs": [
    {
     "name": "stdout",
     "output_type": "stream",
     "text": [
      "The sets are identical\n"
     ]
    }
   ],
   "source": [
    "#22. Check if two sets are identical.\n",
    "set1 = {1, 2, 3, 4, 5}\n",
    "set2 = {5, 4, 3, 2, 1}\n",
    "\n",
    "if set1 == set2:\n",
    "    print(\"The sets are identical\")\n",
    "else:\n",
    "    print(\"The sets are not identical\")\n"
   ]
  },
  {
   "cell_type": "code",
   "execution_count": 73,
   "id": "4614b99a-ac7b-454a-9991-0b9e8e86798f",
   "metadata": {},
   "outputs": [
    {
     "name": "stdout",
     "output_type": "stream",
     "text": [
      "frozenset({1, 2, 3, 4, 5})\n"
     ]
    }
   ],
   "source": [
    "#23. Create a frozen set.\n",
    "my_set = frozenset([1, 2, 3, 4, 5])\n",
    "print(my_set)\n"
   ]
  },
  {
   "cell_type": "code",
   "execution_count": 74,
   "id": "c23e0086-438f-4cc5-8cd3-81b0d149cbfc",
   "metadata": {},
   "outputs": [
    {
     "name": "stdout",
     "output_type": "stream",
     "text": [
      "The sets are disjoint\n"
     ]
    }
   ],
   "source": [
    "#24. Check if a set is disjoint with another set.\n",
    "set1 = {1, 2, 3}\n",
    "set2 = {4, 5, 6}\n",
    "\n",
    "if set1.isdisjoint(set2):\n",
    "    print(\"The sets are disjoint\")\n",
    "else:\n",
    "    print(\"The sets have elements in common\")\n"
   ]
  },
  {
   "cell_type": "code",
   "execution_count": 77,
   "id": "5a44bb74-aff8-45c4-ba60-61a7b7bc069c",
   "metadata": {},
   "outputs": [
    {
     "name": "stdout",
     "output_type": "stream",
     "text": [
      "{1, 4, 9, 16, 25}\n"
     ]
    }
   ],
   "source": [
    "#25. Create a set of squares of numbers from 1 to 5.\n",
    "squares_set = {x**2 for x in range(1, 6)}\n",
    "\n",
    "print(squares_set)\n"
   ]
  },
  {
   "cell_type": "code",
   "execution_count": 78,
   "id": "5cb56bbe-139f-44a2-a978-a20bc72a0e18",
   "metadata": {},
   "outputs": [
    {
     "name": "stdout",
     "output_type": "stream",
     "text": [
      "Set after filtering even numbers: {2, 4, 6, 8, 10}\n"
     ]
    }
   ],
   "source": [
    "#26. Filter out all even numbers from a set.\n",
    "original_set = {1, 2, 3, 4, 5, 6, 7, 8, 9, 10}\n",
    "\n",
    "even_numbers_set = {x for x in original_set if x % 2 == 0}\n",
    "\n",
    "print(\"Set after filtering even numbers:\", even_numbers_set)\n"
   ]
  },
  {
   "cell_type": "code",
   "execution_count": 79,
   "id": "30d34f8c-9aba-489a-93e8-cec9ccf6be87",
   "metadata": {},
   "outputs": [
    {
     "name": "stdout",
     "output_type": "stream",
     "text": [
      "Original set: {1, 2, 3, 4, 5}\n",
      "Set after multiplying by 2: {2, 4, 6, 8, 10}\n"
     ]
    }
   ],
   "source": [
    "#27. Multiply all elements in a set by 2.\n",
    "original_set = {1, 2, 3, 4, 5}\n",
    "\n",
    "multiplied_set = {x * 2 for x in original_set}\n",
    "\n",
    "print(\"Original set:\", original_set)\n",
    "print(\"Set after multiplying by 2:\", multiplied_set)\n"
   ]
  },
  {
   "cell_type": "code",
   "execution_count": 80,
   "id": "17dcff69-fead-4f83-ad42-67d3d1f46f0f",
   "metadata": {},
   "outputs": [
    {
     "name": "stdout",
     "output_type": "stream",
     "text": [
      "Set of random numbers: {96, 4, 68, 40, 41, 11, 45, 88, 57, 95}\n"
     ]
    }
   ],
   "source": [
    "#28. Create a set of random numbers.\n",
    "import random\n",
    "\n",
    "random_set = set()\n",
    "\n",
    "for _ in range(10): \n",
    "    random_set.add(random.randint(1, 100))  \n",
    "\n",
    "print(\"Set of random numbers:\", random_set)\n"
   ]
  },
  {
   "cell_type": "code",
   "execution_count": 81,
   "id": "6f345b2e-9139-44ca-9e68-12d083ce0fe9",
   "metadata": {},
   "outputs": [
    {
     "name": "stdout",
     "output_type": "stream",
     "text": [
      "The set is empty\n"
     ]
    }
   ],
   "source": [
    "#29. Check if a set is empty.\n",
    "my_set = set()\n",
    "\n",
    "if not my_set:\n",
    "    print(\"The set is empty\")\n",
    "else:\n",
    "    print(\"The set is not empty\")\n"
   ]
  },
  {
   "cell_type": "code",
   "execution_count": 82,
   "id": "51b9bdfc-60b9-4865-b1b0-77668f4e7d1d",
   "metadata": {},
   "outputs": [
    {
     "name": "stdout",
     "output_type": "stream",
     "text": [
      "{frozenset({3, 4}), frozenset({5, 6}), frozenset({1, 2})}\n"
     ]
    }
   ],
   "source": [
    "#30. Create a nested set (hint: use frozenset).\n",
    "nested_set = {frozenset({1, 2}), frozenset({3, 4}), frozenset({5, 6})}\n",
    "print(nested_set)"
   ]
  },
  {
   "cell_type": "code",
   "execution_count": 83,
   "id": "23c80013-2fe2-4f5c-b50b-0a9c22c20af1",
   "metadata": {},
   "outputs": [
    {
     "name": "stdout",
     "output_type": "stream",
     "text": [
      "Updated set: {1, 2, 4, 5}\n"
     ]
    }
   ],
   "source": [
    "#31. Remove an element from a set using the discard method.\n",
    "my_set = {1, 2, 3, 4, 5}\n",
    "\n",
    "my_set.discard(3)\n",
    "\n",
    "print(\"Updated set:\", my_set)\n"
   ]
  },
  {
   "cell_type": "code",
   "execution_count": 84,
   "id": "63b35eea-f363-445c-a708-a4dbdd2b3474",
   "metadata": {},
   "outputs": [
    {
     "name": "stdout",
     "output_type": "stream",
     "text": [
      "set1 is not equal to set2\n",
      "set1 is not a proper subset of set2\n",
      "set1 is not a proper superset of set2\n",
      "set1 is not a subset of set2\n",
      "set1 is not a superset of set2\n"
     ]
    }
   ],
   "source": [
    "#32. Compare two sets.\n",
    "set1 = {1, 2, 3, 4, 5}\n",
    "set2 = {3, 4, 5, 6, 7}\n",
    "\n",
    "# Equality\n",
    "if set1 == set2:\n",
    "    print(\"set1 is equal to set2\")\n",
    "else:\n",
    "    print(\"set1 is not equal to set2\")\n",
    "\n",
    "# Proper Subset\n",
    "if set1 < set2:\n",
    "    print(\"set1 is a proper subset of set2\")\n",
    "else:\n",
    "    print(\"set1 is not a proper subset of set2\")\n",
    "\n",
    "# Proper Superset\n",
    "if set1 > set2:\n",
    "    print(\"set1 is a proper superset of set2\")\n",
    "else:\n",
    "    print(\"set1 is not a proper superset of set2\")\n",
    "\n",
    "# Subset\n",
    "if set1 <= set2:\n",
    "    print(\"set1 is a subset of set2\")\n",
    "else:\n",
    "    print(\"set1 is not a subset of set2\")\n",
    "\n",
    "# Superset\n",
    "if set1 >= set2:\n",
    "    print(\"set1 is a superset of set2\")\n",
    "else:\n",
    "    print(\"set1 is not a superset of set2\")\n"
   ]
  },
  {
   "cell_type": "code",
   "execution_count": 85,
   "id": "22d02ad4-4cba-49cb-ace7-003f9da5b374",
   "metadata": {},
   "outputs": [
    {
     "name": "stdout",
     "output_type": "stream",
     "text": [
      "Set from string: {'h', 'o', 'e', 'l'}\n"
     ]
    }
   ],
   "source": [
    "#33. Create a set from a string.\n",
    "my_string = \"hello\"\n",
    "\n",
    "my_set = set(my_string)\n",
    "\n",
    "print(\"Set from string:\", my_set)\n"
   ]
  },
  {
   "cell_type": "code",
   "execution_count": 86,
   "id": "7527a582-c96c-4375-9b32-6dfc064cc6c4",
   "metadata": {},
   "outputs": [
    {
     "name": "stdout",
     "output_type": "stream",
     "text": [
      "Set of integers: {1, 2, 3, 4, 5}\n"
     ]
    }
   ],
   "source": [
    "#34. Convert a set of strings to a set of integers.\n",
    "string_set = {'1', '2', '3', '4', '5'}\n",
    "\n",
    "integer_set = {int(x) for x in string_set}\n",
    "\n",
    "print(\"Set of integers:\", integer_set)\n"
   ]
  },
  {
   "cell_type": "code",
   "execution_count": 87,
   "id": "af4ace56-9f8a-420f-9eeb-74cdcc91eee5",
   "metadata": {},
   "outputs": [
    {
     "name": "stdout",
     "output_type": "stream",
     "text": [
      "Set of strings: {'4', '1', '2', '3', '5'}\n"
     ]
    }
   ],
   "source": [
    "#35. Convert a set of integers to a set of strings.\n",
    "integer_set = {1, 2, 3, 4, 5}\n",
    "\n",
    "string_set = {str(x) for x in integer_set}\n",
    "\n",
    "print(\"Set of strings:\", string_set)\n"
   ]
  },
  {
   "cell_type": "code",
   "execution_count": 88,
   "id": "d0c221cf-9054-448e-a073-6ad599944ce6",
   "metadata": {},
   "outputs": [
    {
     "data": {
      "text/plain": [
       "{2, 34, 91, 'sanju'}"
      ]
     },
     "execution_count": 88,
     "metadata": {},
     "output_type": "execute_result"
    }
   ],
   "source": [
    "#36. Create a set from a tuple.\n",
    "tup1 = (91,2,34,'sanju')\n",
    "set(tup1)"
   ]
  },
  {
   "cell_type": "code",
   "execution_count": 89,
   "id": "a8544a7e-f5ff-4759-b68f-6837185c20d7",
   "metadata": {},
   "outputs": [
    {
     "data": {
      "text/plain": [
       "(2, 91, 'sanju', 34)"
      ]
     },
     "execution_count": 89,
     "metadata": {},
     "output_type": "execute_result"
    }
   ],
   "source": [
    "#37. Convert a set to a tuple\n",
    "set1 = {2, 34, 91, 'sanju'}\n",
    "tuple(set1)"
   ]
  },
  {
   "cell_type": "code",
   "execution_count": 90,
   "id": "339c7e59-e065-40e1-96a2-0c76585a4504",
   "metadata": {},
   "outputs": [
    {
     "name": "stdout",
     "output_type": "stream",
     "text": [
      "The maximum value is: 10\n"
     ]
    }
   ],
   "source": [
    "#38. Find the maximum value in a set.\n",
    "numbers = {5, 8, 2, 10, 1}\n",
    "\n",
    "max_value = next(iter(numbers))\n",
    "\n",
    "for num in numbers:\n",
    "    if num > max_value:\n",
    "        max_value = num\n",
    "\n",
    "print(f\"The maximum value is: {max_value}\")\n"
   ]
  },
  {
   "cell_type": "code",
   "execution_count": 91,
   "id": "0c5181bb-8da7-4e5b-9533-6956237e896a",
   "metadata": {},
   "outputs": [
    {
     "name": "stdout",
     "output_type": "stream",
     "text": [
      "The minimum value is: 1\n"
     ]
    }
   ],
   "source": [
    "#39. Find the minimum value in a set.\n",
    "numbers = {5, 8, 2, 10, 1}\n",
    "\n",
    "min_value = next(iter(numbers))\n",
    "\n",
    "for num in numbers:\n",
    "    if num < min_value:\n",
    "        min_value = num\n",
    "\n",
    "print(f\"The minimum value is: {min_value}\")\n"
   ]
  },
  {
   "cell_type": "code",
   "execution_count": 92,
   "id": "a8100bb9-e388-4ad6-984e-bd45995aba87",
   "metadata": {},
   "outputs": [
    {
     "name": "stdin",
     "output_type": "stream",
     "text": [
      "Enter a list of numbers separated by spaces:  1\n"
     ]
    },
    {
     "name": "stdout",
     "output_type": "stream",
     "text": [
      "Set created from user input: {1}\n"
     ]
    }
   ],
   "source": [
    "#40. Create a set from user input.\n",
    "user_input = input(\"Enter a list of numbers separated by spaces: \")\n",
    "\n",
    "numbers_as_strings = user_input.split()\n",
    "\n",
    "number_set = set(map(int, numbers_as_strings))\n",
    "\n",
    "print(\"Set created from user input:\", number_set)\n"
   ]
  },
  {
   "cell_type": "code",
   "execution_count": 93,
   "id": "27ee2d53-32bb-435f-86ea-ade82e366b27",
   "metadata": {},
   "outputs": [
    {
     "name": "stdout",
     "output_type": "stream",
     "text": [
      "The intersection is empty\n"
     ]
    }
   ],
   "source": [
    "#41. Check if the intersection of two sets is empty.\n",
    "set1 = {1, 2, 3, 4, 5}\n",
    "set2 = {6, 7, 8, 9, 10}\n",
    "\n",
    "is_empty_intersection = set1.isdisjoint(set2)\n",
    "\n",
    "if is_empty_intersection:\n",
    "    print(\"The intersection is empty\")\n",
    "else:\n",
    "    print(\"The sets have elements in common\")\n"
   ]
  },
  {
   "cell_type": "code",
   "execution_count": 94,
   "id": "47430f32-9966-4c8b-b863-9aae14a50b2d",
   "metadata": {},
   "outputs": [
    {
     "name": "stdout",
     "output_type": "stream",
     "text": [
      "Set of the first 5 Fibonacci numbers: {0, 1, 2, 3}\n"
     ]
    }
   ],
   "source": [
    "#42. Create a set of the first 5 Fibonacci numbers.\n",
    "fibonacci_set = {0, 1}\n",
    "\n",
    "a, b = 0, 1\n",
    "for _ in range(3):\n",
    "    a, b = b, a + b\n",
    "    fibonacci_set.add(b)\n",
    "\n",
    "print(\"Set of the first 5 Fibonacci numbers:\", fibonacci_set)\n"
   ]
  },
  {
   "cell_type": "code",
   "execution_count": 95,
   "id": "a94e35f0-82e5-4e5f-9f3c-4273f7184190",
   "metadata": {},
   "outputs": [
    {
     "name": "stdout",
     "output_type": "stream",
     "text": [
      "List without duplicates: [1, 2, 3, 4, 5, 6, 7, 8, 9]\n"
     ]
    }
   ],
   "source": [
    "#43. Remove duplicates from a list using sets.\n",
    "original_list = [1, 2, 3, 2, 1, 4, 5, 4, 6, 7, 8, 7, 9]\n",
    "\n",
    "list_without_duplicates = list(set(original_list))\n",
    "\n",
    "print(\"List without duplicates:\", list_without_duplicates)\n"
   ]
  },
  {
   "cell_type": "code",
   "execution_count": 96,
   "id": "7aed1d93-0932-4651-91e4-4814527cd6a0",
   "metadata": {},
   "outputs": [
    {
     "name": "stdout",
     "output_type": "stream",
     "text": [
      "The sets have the same elements\n"
     ]
    }
   ],
   "source": [
    "#44. Check if two sets have the same elements, regardless of their count.\n",
    "set1 = {1, 2, 3, 4, 5}\n",
    "set2 = {5, 4, 3, 2, 1}\n",
    "\n",
    "if set1 == set2:\n",
    "    print(\"The sets have the same elements\")\n",
    "else:\n",
    "    print(\"The sets do not have the same elements\")\n"
   ]
  },
  {
   "cell_type": "code",
   "execution_count": 97,
   "id": "43de8175-53ac-4e5c-9591-05155cd7d09f",
   "metadata": {},
   "outputs": [
    {
     "name": "stdout",
     "output_type": "stream",
     "text": [
      "Set of the first 5 powers of 2: {1, 2, 4, 8, 16}\n"
     ]
    }
   ],
   "source": [
    "#45. Create a set of the first `n` powers of 2.\n",
    "n = 5\n",
    "\n",
    "powers_of_2_set = {2**i for i in range(n)}\n",
    "\n",
    "# Print the resulting set\n",
    "print(f\"Set of the first {n} powers of 2:\", powers_of_2_set)\n"
   ]
  },
  {
   "cell_type": "code",
   "execution_count": 98,
   "id": "7cd77335-30b7-4a4e-b5bf-70947167afde",
   "metadata": {},
   "outputs": [
    {
     "name": "stdout",
     "output_type": "stream",
     "text": [
      "Common elements: {4, 5}\n"
     ]
    }
   ],
   "source": [
    "#46. Find the common elements between a set and a list.\n",
    "my_set = {1, 2, 3, 4, 5}\n",
    "my_list = [4, 5, 6, 7, 8]\n",
    "\n",
    "common_elements = set(my_list).intersection(my_set)\n",
    "\n",
    "print(\"Common elements:\", common_elements)\n"
   ]
  },
  {
   "cell_type": "code",
   "execution_count": 99,
   "id": "a226fa4b-274f-4cad-880b-bd9c4ab28624",
   "metadata": {},
   "outputs": [
    {
     "name": "stdout",
     "output_type": "stream",
     "text": [
      "Set of the first 5 triangular numbers: {1, 3, 6, 10, 15}\n"
     ]
    }
   ],
   "source": [
    "#47. Create a set of the first `n` triangular numbers.\n",
    "n = 5\n",
    "\n",
    "triangular_numbers_set = {i * (i + 1) // 2 for i in range(1, n+1)}\n",
    "\n",
    "# Print the resulting set\n",
    "print(f\"Set of the first {n} triangular numbers:\", triangular_numbers_set)\n"
   ]
  },
  {
   "cell_type": "code",
   "execution_count": 100,
   "id": "0fe3fbcd-ad2b-4fc0-9af9-dab2ea8c6e4b",
   "metadata": {},
   "outputs": [
    {
     "name": "stdout",
     "output_type": "stream",
     "text": [
      "set2 is a subset of set1\n"
     ]
    }
   ],
   "source": [
    "#48. Check if a set contains another set as a subset.\n",
    "set1 = {1, 2, 3, 4, 5}\n",
    "set2 = {2, 4}\n",
    "\n",
    "if set2.issubset(set1):\n",
    "    print(\"set2 is a subset of set1\")\n",
    "else:\n",
    "    print(\"set2 is not a subset of set1\")\n"
   ]
  },
  {
   "cell_type": "code",
   "execution_count": 101,
   "id": "9ca464ed-1ca8-44d9-8ca7-d3087beaee1c",
   "metadata": {},
   "outputs": [
    {
     "name": "stdout",
     "output_type": "stream",
     "text": [
      "Set of alternating 1s and 0s of length 8: {0, 1}\n"
     ]
    }
   ],
   "source": [
    "#49. Create a set of alternating 1s and 0s of length `n`.\n",
    "n = 8\n",
    "\n",
    "# Create a set of alternating 1s and 0s\n",
    "alternating_set = {i % 2 for i in range(n)}\n",
    "\n",
    "# Print the resulting set\n",
    "print(f\"Set of alternating 1s and 0s of length {n}:\", alternating_set)\n"
   ]
  },
  {
   "cell_type": "code",
   "execution_count": 102,
   "id": "abfe6e17-c519-4a27-ace8-7b74aeb647b6",
   "metadata": {},
   "outputs": [
    {
     "name": "stdout",
     "output_type": "stream",
     "text": [
      "Merged set using union() method: {1, 2, 3, 4, 5, 6, 7}\n",
      "Merged set using | operator: {1, 2, 3, 4, 5, 6, 7}\n"
     ]
    }
   ],
   "source": [
    "#50. Merge multiple sets into one.\n",
    "set1 = {1, 2, 3}\n",
    "set2 = {3, 4, 5}\n",
    "set3 = {5, 6, 7}\n",
    "\n",
    "merged_set1 = set1.union(set2, set3)\n",
    "\n",
    "merged_set2 = set1 | set2 | set3\n",
    "\n",
    "print(\"Merged set using union() method:\", merged_set1)\n",
    "print(\"Merged set using | operator:\", merged_set2)\n"
   ]
  },
  {
   "cell_type": "code",
   "execution_count": null,
   "id": "5d707d85-8af1-4dc2-b52f-2609597a57cd",
   "metadata": {},
   "outputs": [],
   "source": []
  }
 ],
 "metadata": {
  "kernelspec": {
   "display_name": "Python 3 (ipykernel)",
   "language": "python",
   "name": "python3"
  },
  "language_info": {
   "codemirror_mode": {
    "name": "ipython",
    "version": 3
   },
   "file_extension": ".py",
   "mimetype": "text/x-python",
   "name": "python",
   "nbconvert_exporter": "python",
   "pygments_lexer": "ipython3",
   "version": "3.10.8"
  }
 },
 "nbformat": 4,
 "nbformat_minor": 5
}
